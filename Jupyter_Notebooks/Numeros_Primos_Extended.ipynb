{
 "cells": [
  {
   "cell_type": "markdown",
   "id": "f6cc3a59",
   "metadata": {},
   "source": [
    "# Determinar si el número ingresado es primo"
   ]
  },
  {
   "cell_type": "code",
   "execution_count": 13,
   "id": "159a62c4",
   "metadata": {},
   "outputs": [
    {
     "name": "stdout",
     "output_type": "stream",
     "text": [
      "Los primeros 100 números primos\n",
      "primeros primos = 1,2,3,5,7,11,13,17,19,23,29,31,37,41,43,47,53,59,61,67,71,73,79,83,89,97,101,103,107,109,113,127,131,137,139,149,151,157,163,167,173,179,181,191,193,197,199,211,223,227,229,233,239,241,251,257,263,269,271,277,281,283,293,307,311,313,317,331,337,347,349,353,359,367,373,379,383,389,397,401,409,419,421,431,433,439,443,449,457,461,463,467,479,487,491,499,503,509,521,523,541,547,557,563,569,571,577,587,593,599,601,607,613,617,619,631,641,643,647,653,659,661,673,677,683,691,701,709,719,727,733,739,743,751,757,761,769,773,787,797,809,811,821,823,827,829,839,853,857,859,863,877,881,883,887,907,911,919,929,937,941,947,953,967,971,977,983,991,997,\n"
     ]
    }
   ],
   "source": [
    "#n=int(input(\"ingrese número: \"))\n",
    "\n",
    "mensaje = \"primeros primos = \"\n",
    "\n",
    "for contador in range (1, 1000):\n",
    "    aux=False\n",
    "    if contador < 1:\n",
    "        #print(\"Debe ingresar un número positivo\")\n",
    "        aux=False\n",
    "    elif contador == 2:\n",
    "        #print(\"El Número: \", n, \"es primo\")\n",
    "        aux=False\n",
    "    else:\n",
    "        for i in range(2, contador):\n",
    "            if contador % i == 0:\n",
    "                # print(\"El número: \", n, \"No es primo\")\n",
    "                aux=True\n",
    "                break\n",
    "        #if aux == False:\n",
    "            #print(\"El Número: \", n, \"es primo\")\n",
    "    if aux == False:\n",
    "        mensaje += str(contador) + \",\"\n",
    "\n",
    "print(\"Los primeros 100 números primos\")\n",
    "print(mensaje)"
   ]
  },
  {
   "cell_type": "code",
   "execution_count": 14,
   "id": "667f5a64",
   "metadata": {},
   "outputs": [
    {
     "name": "stdout",
     "output_type": "stream",
     "text": [
      "variable de control:  3\n",
      "variable de control:  8\n",
      "variable de control:  13\n",
      "variable de control:  18\n",
      "variable de control:  23\n",
      "variable de control:  28\n",
      "variable de control:  33\n",
      "variable de control:  38\n",
      "variable de control:  43\n",
      "variable de control:  48\n",
      "variable de control:  53\n",
      "variable de control:  58\n",
      "variable de control:  63\n",
      "variable de control:  68\n",
      "variable de control:  73\n",
      "variable de control:  78\n",
      "variable de control:  83\n",
      "variable de control:  88\n",
      "variable de control:  93\n",
      "variable de control:  98\n"
     ]
    }
   ],
   "source": [
    "for i in range(3,100,5):\n",
    "    print(\"variable de control: \", i)"
   ]
  },
  {
   "cell_type": "code",
   "execution_count": null,
   "id": "afce7d27",
   "metadata": {},
   "outputs": [],
   "source": []
  }
 ],
 "metadata": {
  "kernelspec": {
   "display_name": "Python 3",
   "language": "python",
   "name": "python3"
  },
  "language_info": {
   "codemirror_mode": {
    "name": "ipython",
    "version": 3
   },
   "file_extension": ".py",
   "mimetype": "text/x-python",
   "name": "python",
   "nbconvert_exporter": "python",
   "pygments_lexer": "ipython3",
   "version": "3.8.8"
  }
 },
 "nbformat": 4,
 "nbformat_minor": 5
}
