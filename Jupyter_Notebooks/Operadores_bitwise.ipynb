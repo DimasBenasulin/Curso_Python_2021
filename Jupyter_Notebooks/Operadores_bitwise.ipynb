{
 "cells": [
  {
   "cell_type": "markdown",
   "id": "98c7f13c",
   "metadata": {},
   "source": [
    "# Operadores bitwise"
   ]
  },
  {
   "cell_type": "code",
   "execution_count": 2,
   "id": "05e474fc",
   "metadata": {},
   "outputs": [],
   "source": [
    "#Representación en base 2"
   ]
  },
  {
   "cell_type": "code",
   "execution_count": 5,
   "id": "3325c27c",
   "metadata": {},
   "outputs": [
    {
     "name": "stdout",
     "output_type": "stream",
     "text": [
      "0b1000000\n"
     ]
    }
   ],
   "source": [
    "print(bin(64))"
   ]
  },
  {
   "cell_type": "code",
   "execution_count": 6,
   "id": "1999a1ba",
   "metadata": {},
   "outputs": [],
   "source": [
    "#Representación en base 16"
   ]
  },
  {
   "cell_type": "code",
   "execution_count": 7,
   "id": "c87a812a",
   "metadata": {},
   "outputs": [
    {
     "name": "stdout",
     "output_type": "stream",
     "text": [
      "0x40\n"
     ]
    }
   ],
   "source": [
    "print(hex(64))"
   ]
  },
  {
   "cell_type": "code",
   "execution_count": 8,
   "id": "47bbc1cf",
   "metadata": {},
   "outputs": [],
   "source": [
    "#Representación en base 8"
   ]
  },
  {
   "cell_type": "code",
   "execution_count": 9,
   "id": "de223958",
   "metadata": {},
   "outputs": [
    {
     "name": "stdout",
     "output_type": "stream",
     "text": [
      "0o100\n"
     ]
    }
   ],
   "source": [
    "print(oct(64))"
   ]
  },
  {
   "cell_type": "markdown",
   "id": "7f46bf21",
   "metadata": {},
   "source": [
    "## Operador &"
   ]
  },
  {
   "cell_type": "code",
   "execution_count": 11,
   "id": "f84bb59c",
   "metadata": {},
   "outputs": [
    {
     "name": "stdout",
     "output_type": "stream",
     "text": [
      "0b1001\n"
     ]
    }
   ],
   "source": [
    "a = 0b1101\n",
    "b = 0b1011\n",
    "print(bin(a & b))\n",
    "#0b1001"
   ]
  },
  {
   "cell_type": "markdown",
   "id": "c2f318ab",
   "metadata": {},
   "source": [
    "## Operador |"
   ]
  },
  {
   "cell_type": "code",
   "execution_count": 13,
   "id": "4491ebe0",
   "metadata": {},
   "outputs": [
    {
     "name": "stdout",
     "output_type": "stream",
     "text": [
      "0b1111\n"
     ]
    }
   ],
   "source": [
    "a = 0b1101\n",
    "b = 0b1011\n",
    "print(bin(a | b))\n",
    "# 0b1111"
   ]
  },
  {
   "cell_type": "markdown",
   "id": "36968f8d",
   "metadata": {},
   "source": [
    "## Operador ~"
   ]
  },
  {
   "cell_type": "code",
   "execution_count": 15,
   "id": "ca437bc5",
   "metadata": {},
   "outputs": [
    {
     "name": "stdout",
     "output_type": "stream",
     "text": [
      "0b101000\n",
      "-0b101001\n"
     ]
    },
    {
     "data": {
      "text/plain": [
       "-41"
      ]
     },
     "execution_count": 15,
     "metadata": {},
     "output_type": "execute_result"
    }
   ],
   "source": [
    "a = 40\n",
    "print(bin(a))\n",
    "print(bin(~a))\n",
    "0b101000\n",
    "-0b101001"
   ]
  },
  {
   "cell_type": "markdown",
   "id": "c455cb38",
   "metadata": {},
   "source": [
    "### Complemento a Uno"
   ]
  },
  {
   "cell_type": "code",
   "execution_count": 16,
   "id": "0551ceb2",
   "metadata": {},
   "outputs": [
    {
     "name": "stdout",
     "output_type": "stream",
     "text": [
      "0b1010111\n"
     ]
    }
   ],
   "source": [
    "print(bin(a ^ 0b1111111))"
   ]
  },
  {
   "cell_type": "markdown",
   "id": "7bc5ff5c",
   "metadata": {},
   "source": [
    "### Complemento a dos"
   ]
  },
  {
   "cell_type": "code",
   "execution_count": 17,
   "id": "068a161a",
   "metadata": {},
   "outputs": [
    {
     "name": "stdout",
     "output_type": "stream",
     "text": [
      "0b101000\n",
      "-0b101001\n"
     ]
    }
   ],
   "source": [
    "a = 40\n",
    "print(bin(a))\n",
    "print(bin(~a))"
   ]
  },
  {
   "cell_type": "code",
   "execution_count": 18,
   "id": "ebeb984b",
   "metadata": {},
   "outputs": [
    {
     "data": {
      "text/plain": [
       "-41"
      ]
     },
     "execution_count": 18,
     "metadata": {},
     "output_type": "execute_result"
    }
   ],
   "source": [
    "-0b101001"
   ]
  },
  {
   "cell_type": "code",
   "execution_count": 24,
   "id": "504af622",
   "metadata": {},
   "outputs": [
    {
     "name": "stdout",
     "output_type": "stream",
     "text": [
      "-0xc6\n",
      "0x3a\n"
     ]
    }
   ],
   "source": [
    "print(hex(~0xC5))\n",
    "print(hex(0xC5 ^ 0xFF))"
   ]
  },
  {
   "cell_type": "markdown",
   "id": "29ea845c",
   "metadata": {},
   "source": [
    "# Operador ^"
   ]
  },
  {
   "cell_type": "code",
   "execution_count": 19,
   "id": "04ee60bb",
   "metadata": {},
   "outputs": [
    {
     "data": {
      "text/plain": [
       "' Uso como negador controlado '"
      ]
     },
     "execution_count": 19,
     "metadata": {},
     "output_type": "execute_result"
    }
   ],
   "source": [
    "''' Uso como negador controlado '''"
   ]
  },
  {
   "cell_type": "code",
   "execution_count": 20,
   "id": "21ee7b2e",
   "metadata": {},
   "outputs": [
    {
     "name": "stdout",
     "output_type": "stream",
     "text": [
      "0b1100\n"
     ]
    }
   ],
   "source": [
    "x = 0b0110 ^ 0b1010\n",
    "print(bin(x))\n",
    "# 0 xor 1 = 1\n",
    "# 1 xor 0 = 1\n",
    "# 1 xor 1 = 0\n",
    "# 0 xor 0 = 0\n",
    "# 0b1100"
   ]
  },
  {
   "cell_type": "markdown",
   "id": "58d13f56",
   "metadata": {},
   "source": [
    "# Operador >> "
   ]
  },
  {
   "cell_type": "code",
   "execution_count": 21,
   "id": "7eb62e44",
   "metadata": {},
   "outputs": [
    {
     "name": "stdout",
     "output_type": "stream",
     "text": [
      "0b10\n"
     ]
    }
   ],
   "source": [
    "a=0b1000\n",
    "print(bin(a>>2))\n",
    "# 0b10"
   ]
  },
  {
   "cell_type": "markdown",
   "id": "65077655",
   "metadata": {},
   "source": [
    "# Operador <<\n"
   ]
  },
  {
   "cell_type": "code",
   "execution_count": 22,
   "id": "a66f640a",
   "metadata": {},
   "outputs": [
    {
     "name": "stdout",
     "output_type": "stream",
     "text": [
      "0b1000\n"
     ]
    }
   ],
   "source": [
    "a=0b0001\n",
    "print(bin(a<<3))\n",
    "# 0b1000"
   ]
  },
  {
   "cell_type": "markdown",
   "id": "c92d6aec",
   "metadata": {},
   "source": [
    "# Enmascaramiento"
   ]
  },
  {
   "cell_type": "code",
   "execution_count": 26,
   "id": "759a839a",
   "metadata": {},
   "outputs": [
    {
     "name": "stdout",
     "output_type": "stream",
     "text": [
      "0b1010011\n"
     ]
    }
   ],
   "source": [
    "# Setear el bit 2\n",
    "a = 0b01010001\n",
    "a |= 0b00000010\n",
    "print(bin(a))"
   ]
  },
  {
   "cell_type": "code",
   "execution_count": 27,
   "id": "686361ed",
   "metadata": {},
   "outputs": [
    {
     "name": "stdout",
     "output_type": "stream",
     "text": [
      "0b1010010\n"
     ]
    }
   ],
   "source": [
    "# Restablecer (borrar) el bit 0\n",
    "a &= 0b11111110\n",
    "print(bin(a))"
   ]
  },
  {
   "cell_type": "code",
   "execution_count": null,
   "id": "60a0b998",
   "metadata": {},
   "outputs": [],
   "source": []
  }
 ],
 "metadata": {
  "kernelspec": {
   "display_name": "Python 3",
   "language": "python",
   "name": "python3"
  },
  "language_info": {
   "codemirror_mode": {
    "name": "ipython",
    "version": 3
   },
   "file_extension": ".py",
   "mimetype": "text/x-python",
   "name": "python",
   "nbconvert_exporter": "python",
   "pygments_lexer": "ipython3",
   "version": "3.8.8"
  }
 },
 "nbformat": 4,
 "nbformat_minor": 5
}
