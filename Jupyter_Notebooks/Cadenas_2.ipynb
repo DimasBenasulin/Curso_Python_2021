{
 "cells": [
  {
   "cell_type": "markdown",
   "id": "be5ed22d",
   "metadata": {},
   "source": [
    "# Cadenas "
   ]
  },
  {
   "cell_type": "code",
   "execution_count": 1,
   "id": "651ee1f0",
   "metadata": {},
   "outputs": [
    {
     "name": "stdout",
     "output_type": "stream",
     "text": [
      "Parte 1 Parte 2\n"
     ]
    }
   ],
   "source": [
    "s1 = \"Parte 1\"\n",
    "s2 = \"Parte 2\"\n",
    "print(s1 + \" \" + s2) #Parte 1 Parte 2"
   ]
  },
  {
   "cell_type": "markdown",
   "id": "6b635acb",
   "metadata": {},
   "source": [
    "#  Replicación"
   ]
  },
  {
   "cell_type": "code",
   "execution_count": 3,
   "id": "dd142204",
   "metadata": {},
   "outputs": [
    {
     "name": "stdout",
     "output_type": "stream",
     "text": [
      " Hola Hola Hola\n"
     ]
    }
   ],
   "source": [
    "s = \" Hola\"\n",
    "print(s*3) #Hola Hola Hola"
   ]
  },
  {
   "cell_type": "code",
   "execution_count": 4,
   "id": "60afc6e3",
   "metadata": {},
   "outputs": [],
   "source": [
    "# Ver si una cadena esta contenida en otra"
   ]
  },
  {
   "cell_type": "code",
   "execution_count": 9,
   "id": "76f99ec5",
   "metadata": {},
   "outputs": [
    {
     "name": "stdout",
     "output_type": "stream",
     "text": [
      "True\n"
     ]
    }
   ],
   "source": [
    "print(\"mala\" in \"Usted es una mala persona\")"
   ]
  },
  {
   "cell_type": "code",
   "execution_count": 10,
   "id": "2be49fcf",
   "metadata": {},
   "outputs": [],
   "source": [
    "# Longitud de una cadena (por ejemplo para validar ingreso de datos)"
   ]
  },
  {
   "cell_type": "code",
   "execution_count": 11,
   "id": "8bf3e5b5",
   "metadata": {},
   "outputs": [
    {
     "name": "stdout",
     "output_type": "stream",
     "text": [
      "17\n"
     ]
    }
   ],
   "source": [
    "print(len(\"Esta es mi cadena\"))"
   ]
  },
  {
   "cell_type": "code",
   "execution_count": 13,
   "id": "d52f055b",
   "metadata": {},
   "outputs": [],
   "source": [
    "milista = ['a', 'b', 'c' , 'd']"
   ]
  },
  {
   "cell_type": "code",
   "execution_count": 14,
   "id": "6576bbeb",
   "metadata": {},
   "outputs": [
    {
     "name": "stdout",
     "output_type": "stream",
     "text": [
      "c\n"
     ]
    }
   ],
   "source": [
    "print(milista[2])"
   ]
  },
  {
   "cell_type": "code",
   "execution_count": 18,
   "id": "66852693",
   "metadata": {},
   "outputs": [
    {
     "name": "stdout",
     "output_type": "stream",
     "text": [
      "n\n"
     ]
    }
   ],
   "source": [
    "x= \"Esta es mi cadena\"\n",
    "print(x[-2])"
   ]
  },
  {
   "cell_type": "code",
   "execution_count": 19,
   "id": "f72966de",
   "metadata": {},
   "outputs": [],
   "source": [
    "# Métodos String"
   ]
  },
  {
   "cell_type": "code",
   "execution_count": 20,
   "id": "4f9fca50",
   "metadata": {},
   "outputs": [
    {
     "name": "stdout",
     "output_type": "stream",
     "text": [
      "Mi cadena\n"
     ]
    }
   ],
   "source": [
    "s = \"mi cadena\"\n",
    "print(s.capitalize()) #Mi cadena"
   ]
  },
  {
   "cell_type": "code",
   "execution_count": 21,
   "id": "32ebdf34",
   "metadata": {},
   "outputs": [
    {
     "name": "stdout",
     "output_type": "stream",
     "text": [
      "mi cadena\n"
     ]
    }
   ],
   "source": [
    "#El método lower() convierte todos los caracteres alfabéticos en minúscula.\n",
    "\n",
    "s = \"MI CADENA\"\n",
    "print(s.lower()) #mi cadena"
   ]
  },
  {
   "cell_type": "code",
   "execution_count": 23,
   "id": "ce378a60",
   "metadata": {},
   "outputs": [
    {
     "name": "stdout",
     "output_type": "stream",
     "text": [
      "3\n"
     ]
    }
   ],
   "source": [
    "# El método count() permite contar las veces que otra cadena se encuentra dentro de la primera. \n",
    "# Permite también dos parámetros opcionales que indican donde empezar y acabar de buscar.\n",
    "\n",
    "s = \"el bello cuello \"\n",
    "print(s.count(\"el\"))"
   ]
  },
  {
   "cell_type": "code",
   "execution_count": 24,
   "id": "8bef6bdd",
   "metadata": {},
   "outputs": [
    {
     "name": "stdout",
     "output_type": "stream",
     "text": [
      "False\n"
     ]
    }
   ],
   "source": [
    "# El método isalnum() devuelve True si la cadena esta formada únicamente por caracteres alfanuméricos, \n",
    "# False de lo contrario. Caracteres como @ o & no son alfanumericos.\n",
    "\n",
    "s = \"correo@dominio.com\"\n",
    "print(s.isalnum())"
   ]
  },
  {
   "cell_type": "code",
   "execution_count": 27,
   "id": "d7709e3f",
   "metadata": {},
   "outputs": [
    {
     "name": "stdout",
     "output_type": "stream",
     "text": [
      "True\n"
     ]
    }
   ],
   "source": [
    "# El método isalpha() devuelve True si todos los caracteres son alfabéticos, False de lo contrario.\n",
    "\n",
    "s = \"abcdefg\"\n",
    "print(s.isalpha())"
   ]
  },
  {
   "cell_type": "code",
   "execution_count": 33,
   "id": "4327704c",
   "metadata": {},
   "outputs": [
    {
     "name": "stdout",
     "output_type": "stream",
     "text": [
      "abc\n"
     ]
    }
   ],
   "source": [
    "# El método strip() elimina a la izquierda y derecha el carácter que se le introduce. \n",
    "# Si se llama sin parámetros elimina los espacios. Muy útil para limpiar cadenas.\n",
    "\n",
    "s = \"__abc__\"\n",
    "print(s.strip('_')) #abc"
   ]
  },
  {
   "cell_type": "code",
   "execution_count": 34,
   "id": "3ff4a5b4",
   "metadata": {},
   "outputs": [
    {
     "name": "stdout",
     "output_type": "stream",
     "text": [
      "00123\n"
     ]
    }
   ],
   "source": [
    "#El método zfill() rellena la cadena con ceros a la izquierda hasta llegar a la longitud pasada como parámetro.\n",
    "\n",
    "s = \"123\"\n",
    "print(s.zfill(5)) #00123"
   ]
  },
  {
   "cell_type": "code",
   "execution_count": 36,
   "id": "a950cb13",
   "metadata": {},
   "outputs": [
    {
     "name": "stdout",
     "output_type": "stream",
     "text": [
      "1 , 2 , 3\n"
     ]
    }
   ],
   "source": [
    "# El método join() devuelve la primera cadena unida a cada uno de los elementos de la lista que se le pasa como parámetro.\n",
    "\n",
    "s = \" , \".join([\"1\", \"2\", \"3\"])\n",
    "print(s) #1 y 2 y 3"
   ]
  },
  {
   "cell_type": "code",
   "execution_count": 39,
   "id": "cab3aea1",
   "metadata": {},
   "outputs": [
    {
     "name": "stdout",
     "output_type": "stream",
     "text": [
      "['Python', 'Java', 'C', 'C++', 'Pascal']\n"
     ]
    }
   ],
   "source": [
    "# El método split() divide una cadena en subcadenas y las devuelve almacenadas en una lista. La división es realizada de acuerdo a el primer parámetro, y el segundo parámetro indica el número máximo de divisiones a realizar.\n",
    "\n",
    "s = \"Python;Java;C;C++;Pascal\" \n",
    "print(a := s.split(\";\"))"
   ]
  },
  {
   "cell_type": "markdown",
   "id": "753aaebb",
   "metadata": {},
   "source": [
    "# Formateo de cadenas"
   ]
  },
  {
   "cell_type": "code",
   "execution_count": 40,
   "id": "fd7a3fa9",
   "metadata": {},
   "outputs": [],
   "source": [
    "# Formateo %"
   ]
  },
  {
   "cell_type": "code",
   "execution_count": 42,
   "id": "e7c1ea49",
   "metadata": {},
   "outputs": [
    {
     "name": "stdout",
     "output_type": "stream",
     "text": [
      "el resultado de Valor Medio es 34.700000\n"
     ]
    }
   ],
   "source": [
    "tipo_calculo = \"Valor Medio\"\n",
    "valor = 34.7\n",
    "print (\"el resultado de %s es %f\" % (tipo_calculo, valor))"
   ]
  },
  {
   "cell_type": "code",
   "execution_count": 45,
   "id": "34aa0c1c",
   "metadata": {},
   "outputs": [
    {
     "name": "stdout",
     "output_type": "stream",
     "text": [
      "123.142\n"
     ]
    }
   ],
   "source": [
    "print(\"{:2.3f}\".format(123.1415926))"
   ]
  },
  {
   "cell_type": "code",
   "execution_count": 46,
   "id": "2fa54e5a",
   "metadata": {},
   "outputs": [
    {
     "name": "stdout",
     "output_type": "stream",
     "text": [
      "el resultado de raíz cuadrada de dos es 1.41421356\n"
     ]
    }
   ],
   "source": [
    "tipo_calculo = \"raíz cuadrada de dos\"\n",
    "valor = 2**0.5\n",
    "print(\"el resultado de %s es %.8f\" % (tipo_calculo, valor))"
   ]
  },
  {
   "cell_type": "code",
   "execution_count": 47,
   "id": "55ea9704",
   "metadata": {},
   "outputs": [],
   "source": [
    "# Con esta sintaxis hay que determinar el tipo del objeto:\n",
    "\n",
    "# %c = str, simple carácter.\n",
    "# %s = str, cadena de carácter.\n",
    "# %d = int, enteros.\n",
    "# %f = float, coma flotante.\n",
    "# %o = octal.\n",
    "# %x = hexadecimal."
   ]
  },
  {
   "cell_type": "code",
   "execution_count": 48,
   "id": "7609e1f9",
   "metadata": {},
   "outputs": [
    {
     "name": "stdout",
     "output_type": "stream",
     "text": [
      "CMS: Plone, ¿Activar S o N?: S\n",
      "N. factura: 345, Total a pagar: 658.230000\n",
      "Tipo Octal: 27, Tipo Hexadecimal: 17\n"
     ]
    }
   ],
   "source": [
    "print(\"CMS: %s, ¿Activar S o N?: %c\" % (\"Plone\", \"S\"))\n",
    "print(\"N. factura: %d, Total a pagar: %f\" % (345, 658.23))\n",
    "print(\"Tipo Octal: %o, Tipo Hexadecimal: %x\" % (0o27, 0x17))"
   ]
  },
  {
   "cell_type": "code",
   "execution_count": null,
   "id": "6b8e1cdb",
   "metadata": {},
   "outputs": [],
   "source": []
  }
 ],
 "metadata": {
  "kernelspec": {
   "display_name": "Python 3",
   "language": "python",
   "name": "python3"
  },
  "language_info": {
   "codemirror_mode": {
    "name": "ipython",
    "version": 3
   },
   "file_extension": ".py",
   "mimetype": "text/x-python",
   "name": "python",
   "nbconvert_exporter": "python",
   "pygments_lexer": "ipython3",
   "version": "3.8.8"
  }
 },
 "nbformat": 4,
 "nbformat_minor": 5
}
