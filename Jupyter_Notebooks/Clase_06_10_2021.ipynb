{
 "cells": [
  {
   "cell_type": "code",
   "execution_count": 17,
   "id": "edba5c63",
   "metadata": {},
   "outputs": [],
   "source": [
    "a = 0\n",
    "b = 30"
   ]
  },
  {
   "cell_type": "code",
   "execution_count": 22,
   "id": "ae9f404a",
   "metadata": {},
   "outputs": [
    {
     "name": "stdout",
     "output_type": "stream",
     "text": [
      "False\n"
     ]
    }
   ],
   "source": [
    "if a and b:\n",
    "    print(\"Verdadero\")\n",
    "else:\n",
    "    print(\"False\")"
   ]
  },
  {
   "cell_type": "code",
   "execution_count": 19,
   "id": "dbc82c14",
   "metadata": {},
   "outputs": [
    {
     "name": "stdout",
     "output_type": "stream",
     "text": [
      "0b0\n"
     ]
    }
   ],
   "source": [
    "print(bin(a))"
   ]
  },
  {
   "cell_type": "code",
   "execution_count": 20,
   "id": "5615b11d",
   "metadata": {},
   "outputs": [
    {
     "name": "stdout",
     "output_type": "stream",
     "text": [
      "0b11110\n"
     ]
    }
   ],
   "source": [
    "print(bin(b))"
   ]
  },
  {
   "cell_type": "code",
   "execution_count": 21,
   "id": "fecfa306",
   "metadata": {},
   "outputs": [
    {
     "name": "stdout",
     "output_type": "stream",
     "text": [
      "0b0\n"
     ]
    }
   ],
   "source": [
    "print(bin(a and b))"
   ]
  },
  {
   "cell_type": "code",
   "execution_count": 23,
   "id": "8989ca65",
   "metadata": {},
   "outputs": [],
   "source": [
    "c = 0b10001000"
   ]
  },
  {
   "cell_type": "code",
   "execution_count": 24,
   "id": "34c10523",
   "metadata": {},
   "outputs": [
    {
     "name": "stdout",
     "output_type": "stream",
     "text": [
      "0x88\n"
     ]
    }
   ],
   "source": [
    "print(hex(c))"
   ]
  },
  {
   "cell_type": "code",
   "execution_count": 25,
   "id": "543eea92",
   "metadata": {},
   "outputs": [
    {
     "name": "stdout",
     "output_type": "stream",
     "text": [
      "0b10000000\n"
     ]
    }
   ],
   "source": [
    "print(bin(c & 0b10000000))"
   ]
  },
  {
   "cell_type": "code",
   "execution_count": 26,
   "id": "2c95f2b5",
   "metadata": {},
   "outputs": [
    {
     "name": "stdout",
     "output_type": "stream",
     "text": [
      "Verdadero\n"
     ]
    }
   ],
   "source": [
    "if c & 0b10000000:\n",
    "    print(\"Verdadero\")\n",
    "else:\n",
    "    print(\"False\")"
   ]
  },
  {
   "cell_type": "code",
   "execution_count": 27,
   "id": "284d4133",
   "metadata": {},
   "outputs": [],
   "source": [
    "# IP : 192.168.0.101\n",
    "# Mask: 255.255.255.0    Máscara de Red\n",
    "# Red:      192.168.0.0 ----> Direción de Red\n",
    "# HOSTS:    desde 192.168.0.1 hasta 192.168.0.254\n",
    "# Broadcast 192.168.0.255 -----> Dirección de Difusión"
   ]
  },
  {
   "cell_type": "code",
   "execution_count": 28,
   "id": "2a1c99b4",
   "metadata": {},
   "outputs": [],
   "source": [
    "#Para encontrar la dirección efectuo una operacion AND con la máscara"
   ]
  },
  {
   "cell_type": "code",
   "execution_count": 37,
   "id": "ee1d4c1a",
   "metadata": {},
   "outputs": [
    {
     "name": "stdout",
     "output_type": "stream",
     "text": [
      "0\n"
     ]
    }
   ],
   "source": [
    "print(101 & 0)\n"
   ]
  },
  {
   "cell_type": "markdown",
   "id": "ea9eebb5",
   "metadata": {},
   "source": [
    "# operador &"
   ]
  },
  {
   "cell_type": "code",
   "execution_count": 38,
   "id": "e3f7a577",
   "metadata": {},
   "outputs": [
    {
     "name": "stdout",
     "output_type": "stream",
     "text": [
      "0b1001\n"
     ]
    }
   ],
   "source": [
    "a = 0b1101\n",
    "b = 0b1011\n",
    "print(bin(a & b))"
   ]
  },
  {
   "cell_type": "markdown",
   "id": "9e10552a",
   "metadata": {},
   "source": [
    "# operador |"
   ]
  },
  {
   "cell_type": "code",
   "execution_count": 40,
   "id": "4611fbfd",
   "metadata": {},
   "outputs": [
    {
     "name": "stdout",
     "output_type": "stream",
     "text": [
      "0b1011\n"
     ]
    }
   ],
   "source": [
    "a = 0b1001\n",
    "b = 0b1011\n",
    "print(bin(a | b))"
   ]
  },
  {
   "cell_type": "code",
   "execution_count": 43,
   "id": "ac308d4d",
   "metadata": {},
   "outputs": [],
   "source": [
    "puerto = 0b11010011"
   ]
  },
  {
   "cell_type": "code",
   "execution_count": 44,
   "id": "cca1ce4c",
   "metadata": {},
   "outputs": [
    {
     "name": "stdout",
     "output_type": "stream",
     "text": [
      "0b11010011\n"
     ]
    }
   ],
   "source": [
    "print(bin(puerto))"
   ]
  },
  {
   "cell_type": "code",
   "execution_count": 45,
   "id": "626e86b8",
   "metadata": {},
   "outputs": [],
   "source": [
    "puerto |= 0b00100000 "
   ]
  },
  {
   "cell_type": "code",
   "execution_count": 46,
   "id": "a260b060",
   "metadata": {},
   "outputs": [
    {
     "name": "stdout",
     "output_type": "stream",
     "text": [
      "0b11110011\n"
     ]
    }
   ],
   "source": [
    "print(bin(puerto))"
   ]
  },
  {
   "cell_type": "code",
   "execution_count": 47,
   "id": "9e71c4ce",
   "metadata": {},
   "outputs": [],
   "source": [
    "puerto &= 0b11011111"
   ]
  },
  {
   "cell_type": "code",
   "execution_count": 48,
   "id": "b490d870",
   "metadata": {},
   "outputs": [
    {
     "name": "stdout",
     "output_type": "stream",
     "text": [
      "0b11010011\n"
     ]
    }
   ],
   "source": [
    "print(bin(puerto))"
   ]
  },
  {
   "cell_type": "markdown",
   "id": "0321b650",
   "metadata": {},
   "source": [
    "# Operador ~"
   ]
  },
  {
   "cell_type": "code",
   "execution_count": 49,
   "id": "a0c0be7a",
   "metadata": {},
   "outputs": [],
   "source": [
    "c = 0b11110000"
   ]
  },
  {
   "cell_type": "code",
   "execution_count": 51,
   "id": "1e9d0289",
   "metadata": {},
   "outputs": [
    {
     "name": "stdout",
     "output_type": "stream",
     "text": [
      "-0xf1\n"
     ]
    }
   ],
   "source": [
    "print(hex(~c))"
   ]
  },
  {
   "cell_type": "code",
   "execution_count": 52,
   "id": "22c4f390",
   "metadata": {},
   "outputs": [
    {
     "name": "stdout",
     "output_type": "stream",
     "text": [
      "-0b11110001\n"
     ]
    }
   ],
   "source": [
    "print(bin(~c))   # Complemento a dos"
   ]
  },
  {
   "cell_type": "code",
   "execution_count": 53,
   "id": "2ada9f6a",
   "metadata": {},
   "outputs": [],
   "source": [
    "d = 20"
   ]
  },
  {
   "cell_type": "code",
   "execution_count": 54,
   "id": "a30179b7",
   "metadata": {},
   "outputs": [],
   "source": [
    "c = -d"
   ]
  },
  {
   "cell_type": "code",
   "execution_count": 55,
   "id": "e47a2b0c",
   "metadata": {},
   "outputs": [
    {
     "name": "stdout",
     "output_type": "stream",
     "text": [
      "0b10100\n",
      "-0b10100\n"
     ]
    }
   ],
   "source": [
    "print(bin(d))\n",
    "print(bin(c))"
   ]
  },
  {
   "cell_type": "markdown",
   "id": "6367edfb",
   "metadata": {},
   "source": [
    "# Operador ^"
   ]
  },
  {
   "cell_type": "code",
   "execution_count": 56,
   "id": "6ac6c2ea",
   "metadata": {},
   "outputs": [
    {
     "name": "stdout",
     "output_type": "stream",
     "text": [
      "0b1100\n"
     ]
    }
   ],
   "source": [
    "x = 0b0110 ^ 0b1010\n",
    "print(bin(x))\n",
    "# 0 xor 1 = 1\n",
    "# 1 xor 0 = 1\n",
    "# 1 xor 1 = 0\n",
    "# 0 xor 0 = 0\n",
    "# 0b1100"
   ]
  },
  {
   "cell_type": "code",
   "execution_count": 57,
   "id": "c640c700",
   "metadata": {},
   "outputs": [],
   "source": [
    "# Negador controlado"
   ]
  },
  {
   "cell_type": "code",
   "execution_count": 98,
   "id": "32d66eb8",
   "metadata": {},
   "outputs": [],
   "source": [
    "a = 0b11110000\n"
   ]
  },
  {
   "cell_type": "code",
   "execution_count": 99,
   "id": "e410ff45",
   "metadata": {},
   "outputs": [
    {
     "name": "stdout",
     "output_type": "stream",
     "text": [
      "0b11110000\n"
     ]
    }
   ],
   "source": [
    "print(bin(a))"
   ]
  },
  {
   "cell_type": "code",
   "execution_count": 100,
   "id": "5efae0a5",
   "metadata": {},
   "outputs": [],
   "source": [
    "a ^= 0b10001100"
   ]
  },
  {
   "cell_type": "code",
   "execution_count": 101,
   "id": "dfb2c0d0",
   "metadata": {},
   "outputs": [
    {
     "name": "stdout",
     "output_type": "stream",
     "text": [
      "0b1111100\n"
     ]
    }
   ],
   "source": [
    "print(bin(a))"
   ]
  },
  {
   "cell_type": "code",
   "execution_count": 102,
   "id": "7ed986e2",
   "metadata": {},
   "outputs": [],
   "source": [
    "f = 0xaa"
   ]
  },
  {
   "cell_type": "code",
   "execution_count": 115,
   "id": "e820d85a",
   "metadata": {},
   "outputs": [],
   "source": [
    "g= f ^ 0xff   # Complemento a 1"
   ]
  },
  {
   "cell_type": "code",
   "execution_count": 110,
   "id": "0126e181",
   "metadata": {},
   "outputs": [
    {
     "name": "stdout",
     "output_type": "stream",
     "text": [
      "0b1010101\n"
     ]
    }
   ],
   "source": [
    "print(bin(g))"
   ]
  },
  {
   "cell_type": "code",
   "execution_count": 113,
   "id": "859fdf9a",
   "metadata": {},
   "outputs": [
    {
     "name": "stdout",
     "output_type": "stream",
     "text": [
      "0b10101010\n"
     ]
    }
   ],
   "source": [
    "print(bin(f))"
   ]
  },
  {
   "cell_type": "code",
   "execution_count": 114,
   "id": "a9bc67aa",
   "metadata": {},
   "outputs": [
    {
     "name": "stdout",
     "output_type": "stream",
     "text": [
      "0b1010101\n"
     ]
    }
   ],
   "source": [
    "print(bin(g))"
   ]
  },
  {
   "cell_type": "code",
   "execution_count": 122,
   "id": "25a66275",
   "metadata": {},
   "outputs": [],
   "source": [
    "m = 20\n",
    "h = ~m     # Complemento a dos"
   ]
  },
  {
   "cell_type": "code",
   "execution_count": 123,
   "id": "11efde9b",
   "metadata": {},
   "outputs": [
    {
     "name": "stdout",
     "output_type": "stream",
     "text": [
      "-21\n"
     ]
    }
   ],
   "source": [
    "print(h)\n"
   ]
  },
  {
   "cell_type": "code",
   "execution_count": 124,
   "id": "c11bbe1a",
   "metadata": {},
   "outputs": [],
   "source": [
    "i = m ^ 0xff  # Complemento a uno"
   ]
  },
  {
   "cell_type": "code",
   "execution_count": 126,
   "id": "1be7c1fb",
   "metadata": {},
   "outputs": [
    {
     "name": "stdout",
     "output_type": "stream",
     "text": [
      "0b10100\n",
      "0b11101011\n"
     ]
    }
   ],
   "source": [
    "print(bin(m))\n",
    "print(bin(i))"
   ]
  },
  {
   "cell_type": "markdown",
   "id": "66f34336",
   "metadata": {},
   "source": [
    "# Operador >>"
   ]
  },
  {
   "cell_type": "code",
   "execution_count": 127,
   "id": "5ae44ef3",
   "metadata": {},
   "outputs": [
    {
     "name": "stdout",
     "output_type": "stream",
     "text": [
      "0b10\n"
     ]
    }
   ],
   "source": [
    "a=0b1000\n",
    "print(bin(a>>2))"
   ]
  },
  {
   "cell_type": "code",
   "execution_count": 128,
   "id": "9273e29b",
   "metadata": {},
   "outputs": [
    {
     "name": "stdout",
     "output_type": "stream",
     "text": [
      "12\n"
     ]
    }
   ],
   "source": [
    "print(0b1100)"
   ]
  },
  {
   "cell_type": "code",
   "execution_count": 129,
   "id": "3be9fbf0",
   "metadata": {},
   "outputs": [
    {
     "name": "stdout",
     "output_type": "stream",
     "text": [
      "103\n"
     ]
    }
   ],
   "source": [
    "print(0b01100111)"
   ]
  },
  {
   "cell_type": "markdown",
   "id": "44eb603c",
   "metadata": {},
   "source": [
    "# Operador <<"
   ]
  },
  {
   "cell_type": "code",
   "execution_count": 130,
   "id": "07c76dde",
   "metadata": {},
   "outputs": [
    {
     "name": "stdout",
     "output_type": "stream",
     "text": [
      "0b1000\n"
     ]
    }
   ],
   "source": [
    "a=0b0001\n",
    "print(bin(a<<3))"
   ]
  },
  {
   "cell_type": "code",
   "execution_count": 139,
   "id": "f164e2f3",
   "metadata": {},
   "outputs": [
    {
     "name": "stdout",
     "output_type": "stream",
     "text": [
      "1024\n"
     ]
    }
   ],
   "source": [
    "q = 2\n",
    "print(q << 9 )"
   ]
  },
  {
   "cell_type": "code",
   "execution_count": 140,
   "id": "e3cc0194",
   "metadata": {},
   "outputs": [
    {
     "data": {
      "text/plain": [
       "64"
      ]
     },
     "execution_count": 140,
     "metadata": {},
     "output_type": "execute_result"
    }
   ],
   "source": [
    "2\n",
    "4\n",
    "8\n",
    "16\n",
    "32\n",
    "64\n"
   ]
  },
  {
   "cell_type": "code",
   "execution_count": null,
   "id": "3a9e437f",
   "metadata": {},
   "outputs": [],
   "source": []
  }
 ],
 "metadata": {
  "kernelspec": {
   "display_name": "Python 3",
   "language": "python",
   "name": "python3"
  },
  "language_info": {
   "codemirror_mode": {
    "name": "ipython",
    "version": 3
   },
   "file_extension": ".py",
   "mimetype": "text/x-python",
   "name": "python",
   "nbconvert_exporter": "python",
   "pygments_lexer": "ipython3",
   "version": "3.8.8"
  }
 },
 "nbformat": 4,
 "nbformat_minor": 5
}
