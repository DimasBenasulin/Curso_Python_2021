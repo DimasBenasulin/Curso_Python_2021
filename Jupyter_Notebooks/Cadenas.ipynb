{
 "cells": [
  {
   "cell_type": "markdown",
   "id": "7837dd5e",
   "metadata": {},
   "source": [
    "# Cadenas"
   ]
  },
  {
   "cell_type": "code",
   "execution_count": 1,
   "id": "b321e28f",
   "metadata": {},
   "outputs": [],
   "source": [
    "#concatenar"
   ]
  },
  {
   "cell_type": "code",
   "execution_count": 2,
   "id": "d3c9eec9",
   "metadata": {},
   "outputs": [
    {
     "name": "stdout",
     "output_type": "stream",
     "text": [
      "Parte 1 Parte 2\n"
     ]
    }
   ],
   "source": [
    "s1 = \"Parte 1\"\n",
    "s2 = \"Parte 2\"\n",
    "print(s1 + \" \" + s2) #Parte 1 Parte 2"
   ]
  },
  {
   "cell_type": "code",
   "execution_count": 3,
   "id": "5cd387f5",
   "metadata": {},
   "outputs": [],
   "source": [
    "#  Replicación"
   ]
  },
  {
   "cell_type": "code",
   "execution_count": 4,
   "id": "f525f3d6",
   "metadata": {},
   "outputs": [
    {
     "name": "stdout",
     "output_type": "stream",
     "text": [
      "Hola Hola Hola \n"
     ]
    }
   ],
   "source": [
    "s = \"Hola \"\n",
    "print(s*3) #Hola Hola Hola"
   ]
  },
  {
   "cell_type": "code",
   "execution_count": 5,
   "id": "cdbbc605",
   "metadata": {},
   "outputs": [],
   "source": [
    "# Ver si una cadena esta contenida en otra"
   ]
  },
  {
   "cell_type": "code",
   "execution_count": 6,
   "id": "076c1b1b",
   "metadata": {},
   "outputs": [
    {
     "name": "stdout",
     "output_type": "stream",
     "text": [
      "True\n"
     ]
    }
   ],
   "source": [
    "print(\"mola\" in \"Python mola\") #True"
   ]
  },
  {
   "cell_type": "code",
   "execution_count": 7,
   "id": "0515ee0e",
   "metadata": {},
   "outputs": [],
   "source": [
    "# Longitud de una cadena (por ejemplo para validar ingreso de datos)\n"
   ]
  },
  {
   "cell_type": "code",
   "execution_count": 8,
   "id": "b6530fb6",
   "metadata": {},
   "outputs": [
    {
     "name": "stdout",
     "output_type": "stream",
     "text": [
      "17\n"
     ]
    }
   ],
   "source": [
    "print(len(\"Esta es mi cadena\"))"
   ]
  },
  {
   "cell_type": "code",
   "execution_count": 9,
   "id": "bd712ada",
   "metadata": {},
   "outputs": [],
   "source": [
    "# Indexación de cadenas"
   ]
  },
  {
   "cell_type": "code",
   "execution_count": 10,
   "id": "3b4c3725",
   "metadata": {},
   "outputs": [
    {
     "name": "stdout",
     "output_type": "stream",
     "text": [
      "a\n",
      "e\n"
     ]
    }
   ],
   "source": [
    "x = \"abcde\"\n",
    "print(x[0])  #a\n",
    "print(x[-1]) #e"
   ]
  },
  {
   "cell_type": "code",
   "execution_count": 11,
   "id": "7d84b3ea",
   "metadata": {},
   "outputs": [],
   "source": [
    "# Rodajas en Cadenas"
   ]
  },
  {
   "cell_type": "code",
   "execution_count": 12,
   "id": "421fe1da",
   "metadata": {},
   "outputs": [
    {
     "name": "stdout",
     "output_type": "stream",
     "text": [
      "ab\n"
     ]
    }
   ],
   "source": [
    "x = \"abcde\"\n",
    "print(x[0:2])"
   ]
  },
  {
   "cell_type": "code",
   "execution_count": 13,
   "id": "f3253416",
   "metadata": {},
   "outputs": [
    {
     "name": "stdout",
     "output_type": "stream",
     "text": [
      "ace\n"
     ]
    }
   ],
   "source": [
    "x = \"abcde\"\n",
    "print(x[0:5:2]) #ace"
   ]
  },
  {
   "cell_type": "code",
   "execution_count": 14,
   "id": "58508009",
   "metadata": {},
   "outputs": [
    {
     "name": "stdout",
     "output_type": "stream",
     "text": [
      "ace\n"
     ]
    }
   ],
   "source": [
    "x = \"abcde\"\n",
    "print(x[0::2]) #ace"
   ]
  },
  {
   "cell_type": "markdown",
   "id": "c5bf69b1",
   "metadata": {},
   "source": [
    "# Métodos String"
   ]
  },
  {
   "cell_type": "code",
   "execution_count": 15,
   "id": "1484ab42",
   "metadata": {},
   "outputs": [
    {
     "name": "stdout",
     "output_type": "stream",
     "text": [
      "Mi cadena\n"
     ]
    }
   ],
   "source": [
    "# El método capitalize() se aplica sobre una cadena y la devuelve con su primera letra en mayúscula.\n",
    "\n",
    "s = \"mi cadena\"\n",
    "print(s.capitalize()) #Mi cadena"
   ]
  },
  {
   "cell_type": "code",
   "execution_count": 16,
   "id": "dcda5a61",
   "metadata": {},
   "outputs": [
    {
     "name": "stdout",
     "output_type": "stream",
     "text": [
      "mi cadena\n"
     ]
    }
   ],
   "source": [
    "#El método lower() convierte todos los caracteres alfabéticos en minúscula.\n",
    "\n",
    "s = \"MI CADENA\"\n",
    "print(s.lower()) #mi cadena"
   ]
  },
  {
   "cell_type": "code",
   "execution_count": 17,
   "id": "3a1a897c",
   "metadata": {},
   "outputs": [
    {
     "name": "stdout",
     "output_type": "stream",
     "text": [
      "Mi CaDeNa\n"
     ]
    }
   ],
   "source": [
    "#El método swapcase() convierte los caracteres alfabéticos con mayúsculas en minúsculas y viceversa.\n",
    "\n",
    "s = \"mI cAdEnA\"\n",
    "print(s.swapcase()) #Mi CaDeNa"
   ]
  },
  {
   "cell_type": "code",
   "execution_count": 18,
   "id": "5737af00",
   "metadata": {},
   "outputs": [
    {
     "name": "stdout",
     "output_type": "stream",
     "text": [
      "MI CADENA\n"
     ]
    }
   ],
   "source": [
    "# El método upper() convierte todos los caracteres alfabéticos en mayúsculas.\n",
    "# Muy usado en procesamiento de texto para bases de datos\n",
    "\n",
    "s = \"mi cadena\"\n",
    "print(s.upper())"
   ]
  },
  {
   "cell_type": "code",
   "execution_count": 19,
   "id": "bdfcc80e",
   "metadata": {},
   "outputs": [
    {
     "name": "stdout",
     "output_type": "stream",
     "text": [
      "2\n"
     ]
    }
   ],
   "source": [
    "# El método count() permite contar las veces que otra cadena se encuentra dentro de la primera. \n",
    "# Permite también dos parámetros opcionales que indican donde empezar y acabar de buscar.\n",
    "\n",
    "s = \"el bello cuello \"\n",
    "print(s.count(\"llo\")) #2"
   ]
  },
  {
   "cell_type": "code",
   "execution_count": 20,
   "id": "4a46e534",
   "metadata": {},
   "outputs": [
    {
     "name": "stdout",
     "output_type": "stream",
     "text": [
      "False\n"
     ]
    }
   ],
   "source": [
    "# El método isalnum() devuelve True si la cadena esta formada únicamente por caracteres alfanuméricos, \n",
    "# False de lo contrario. Caracteres como @ o & no son alfanumericos.\n",
    "\n",
    "s = \"correo@dominio.com\"\n",
    "print(s.isalnum())"
   ]
  },
  {
   "cell_type": "code",
   "execution_count": 21,
   "id": "f4bc50fe",
   "metadata": {},
   "outputs": [
    {
     "name": "stdout",
     "output_type": "stream",
     "text": [
      "True\n"
     ]
    }
   ],
   "source": [
    "# El método isalpha() devuelve True si todos los caracteres son alfabéticos, False de lo contrario.\n",
    "\n",
    "s = \"abcdefg\"\n",
    "print(s.isalpha())"
   ]
  },
  {
   "cell_type": "code",
   "execution_count": 22,
   "id": "2dc06cc1",
   "metadata": {},
   "outputs": [
    {
     "name": "stdout",
     "output_type": "stream",
     "text": [
      "abc\n"
     ]
    }
   ],
   "source": [
    "# El método strip() elimina a la izquierda y derecha el carácter que se le introduce. \n",
    "# Si se llama sin parámetros elimina los espacios. Muy útil para limpiar cadenas.\n",
    "\n",
    "s = \"  abc  \"\n",
    "print(s.strip()) #abc"
   ]
  },
  {
   "cell_type": "code",
   "execution_count": 23,
   "id": "f3ca6b78",
   "metadata": {},
   "outputs": [
    {
     "name": "stdout",
     "output_type": "stream",
     "text": [
      "00123\n"
     ]
    }
   ],
   "source": [
    "#El método zfill() rellena la cadena con ceros a la izquierda hasta llegar a la longitud pasada como parámetro.\n",
    "\n",
    "s = \"123\"\n",
    "print(s.zfill(5)) #00123"
   ]
  },
  {
   "cell_type": "code",
   "execution_count": 24,
   "id": "5da2f3da",
   "metadata": {},
   "outputs": [
    {
     "name": "stdout",
     "output_type": "stream",
     "text": [
      "1 y 2 y 3\n"
     ]
    }
   ],
   "source": [
    "# El método join() devuelve la primera cadena unida a cada uno de los elementos de la lista que se le pasa como parámetro.\n",
    "\n",
    "s = \" y \".join([\"1\", \"2\", \"3\"])\n",
    "print(s) #1 y 2 y 3"
   ]
  },
  {
   "cell_type": "code",
   "execution_count": 26,
   "id": "f682460d",
   "metadata": {},
   "outputs": [
    {
     "name": "stdout",
     "output_type": "stream",
     "text": [
      "['Python', 'Java', 'C']\n"
     ]
    }
   ],
   "source": [
    "# El método split() divide una cadena en subcadenas y las devuelve almacenadas en una lista. La división es realizada de acuerdo a el primer parámetro, y el segundo parámetro indica el número máximo de divisiones a realizar.\n",
    "\n",
    "s = \"Python,Java,C\"\n",
    "print(a := s.split(\",\")) #['Python', 'Java', 'C']"
   ]
  },
  {
   "cell_type": "code",
   "execution_count": 27,
   "id": "45df82f7",
   "metadata": {},
   "outputs": [
    {
     "name": "stdout",
     "output_type": "stream",
     "text": [
      "['Python', 'Java', 'C']\n"
     ]
    }
   ],
   "source": [
    "print(a)    # Luego de usar el operador walrus"
   ]
  },
  {
   "cell_type": "markdown",
   "id": "010079a3",
   "metadata": {},
   "source": [
    "# Formateo de cadenas"
   ]
  },
  {
   "cell_type": "code",
   "execution_count": 31,
   "id": "be726881",
   "metadata": {},
   "outputs": [],
   "source": [
    "tipo_calculo = \"raíz cuadrada de dos\"\n",
    "valor = 2**0.5\n"
   ]
  },
  {
   "cell_type": "markdown",
   "id": "cfe48510",
   "metadata": {},
   "source": [
    "### Formateo %"
   ]
  },
  {
   "cell_type": "code",
   "execution_count": 36,
   "id": "372a0c1e",
   "metadata": {},
   "outputs": [
    {
     "name": "stdout",
     "output_type": "stream",
     "text": [
      "el resultado de raíz cuadrada de dos es 1.414214\n"
     ]
    }
   ],
   "source": [
    "print (\"el resultado de %s es %f\" % (tipo_calculo, valor))"
   ]
  },
  {
   "cell_type": "code",
   "execution_count": 34,
   "id": "69963995",
   "metadata": {},
   "outputs": [
    {
     "name": "stdout",
     "output_type": "stream",
     "text": [
      "  3.142\n"
     ]
    }
   ],
   "source": [
    "print(\"{:7.3f}\".format(3.1415926))"
   ]
  },
  {
   "cell_type": "code",
   "execution_count": 38,
   "id": "973c5dc2",
   "metadata": {},
   "outputs": [
    {
     "name": "stdout",
     "output_type": "stream",
     "text": [
      "el resultado de raíz cuadrada de dos es 1.41421356\n"
     ]
    }
   ],
   "source": [
    "tipo_calculo = \"raíz cuadrada de dos\"\n",
    "valor = 2**0.5\n",
    "print(\"el resultado de %s es %.8f\" % (tipo_calculo, valor))"
   ]
  },
  {
   "cell_type": "code",
   "execution_count": 39,
   "id": "ba7970ab",
   "metadata": {},
   "outputs": [],
   "source": [
    "# Con esta sintaxis hay que determinar el tipo del objeto:\n",
    "\n",
    "# %c = str, simple carácter.\n",
    "# %s = str, cadena de carácter.\n",
    "# %d = int, enteros.\n",
    "# %f = float, coma flotante.\n",
    "# %o = octal.\n",
    "# %x = hexadecimal."
   ]
  },
  {
   "cell_type": "code",
   "execution_count": 43,
   "id": "b697e734",
   "metadata": {},
   "outputs": [
    {
     "name": "stdout",
     "output_type": "stream",
     "text": [
      "CMS: Plone, ¿Activar S o N?: S\n",
      "N. factura: 345, Total a pagar: 658.230000\n",
      "Tipo Octal: 27, Tipo Hexadecimal: 17\n"
     ]
    }
   ],
   "source": [
    "print(\"CMS: %s, ¿Activar S o N?: %c\" % (\"Plone\", \"S\"))\n",
    "print(\"N. factura: %d, Total a pagar: %f\" % (345, 658.23))\n",
    "print(\"Tipo Octal: %o, Tipo Hexadecimal: %x\" % (0o27, 0x17))\n"
   ]
  },
  {
   "cell_type": "code",
   "execution_count": null,
   "id": "3e7e8ce6",
   "metadata": {},
   "outputs": [],
   "source": []
  }
 ],
 "metadata": {
  "kernelspec": {
   "display_name": "Python 3",
   "language": "python",
   "name": "python3"
  },
  "language_info": {
   "codemirror_mode": {
    "name": "ipython",
    "version": 3
   },
   "file_extension": ".py",
   "mimetype": "text/x-python",
   "name": "python",
   "nbconvert_exporter": "python",
   "pygments_lexer": "ipython3",
   "version": "3.8.8"
  }
 },
 "nbformat": 4,
 "nbformat_minor": 5
}
