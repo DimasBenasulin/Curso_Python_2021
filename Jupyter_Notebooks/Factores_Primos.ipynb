{
 "cells": [
  {
   "cell_type": "markdown",
   "id": "464f5bc3",
   "metadata": {},
   "source": [
    "# Descomposición en factores primos"
   ]
  },
  {
   "cell_type": "code",
   "execution_count": 13,
   "id": "2a3a5ffe",
   "metadata": {},
   "outputs": [
    {
     "name": "stdout",
     "output_type": "stream",
     "text": [
      "ingrese número: 444\n"
     ]
    }
   ],
   "source": [
    "n=int(input(\"ingrese número: \"))"
   ]
  },
  {
   "cell_type": "code",
   "execution_count": 14,
   "id": "d21d5b2d",
   "metadata": {},
   "outputs": [
    {
     "name": "stdout",
     "output_type": "stream",
     "text": [
      "Descomposición en factores primos\n",
      "\n",
      "\n"
     ]
    }
   ],
   "source": [
    "print(\"Descomposición en factores primos\")\n",
    "print(\"\\n\")\n",
    "resultado=\"Fp: \" + str(n) + \" = \""
   ]
  },
  {
   "cell_type": "code",
   "execution_count": 15,
   "id": "f93c59bc",
   "metadata": {},
   "outputs": [
    {
     "name": "stdout",
     "output_type": "stream",
     "text": [
      "Fp: 444 = 2 . 2 . 3 . 37 . \n"
     ]
    }
   ],
   "source": [
    "for i in range(2, n + 1):\n",
    "    while n % i == 0:\n",
    "        resultado += str(i) + \" . \"\n",
    "        n = n / i\n",
    "print(resultado)    "
   ]
  },
  {
   "cell_type": "code",
   "execution_count": null,
   "id": "3e817610",
   "metadata": {},
   "outputs": [],
   "source": []
  }
 ],
 "metadata": {
  "kernelspec": {
   "display_name": "Python 3",
   "language": "python",
   "name": "python3"
  },
  "language_info": {
   "codemirror_mode": {
    "name": "ipython",
    "version": 3
   },
   "file_extension": ".py",
   "mimetype": "text/x-python",
   "name": "python",
   "nbconvert_exporter": "python",
   "pygments_lexer": "ipython3",
   "version": "3.8.8"
  }
 },
 "nbformat": 4,
 "nbformat_minor": 5
}
