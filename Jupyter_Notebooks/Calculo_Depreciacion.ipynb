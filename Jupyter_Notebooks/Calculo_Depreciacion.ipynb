{
 "cells": [
  {
   "cell_type": "markdown",
   "id": "8b5227de",
   "metadata": {},
   "source": [
    "# Programa para calcular la depreciación de un objeto"
   ]
  },
  {
   "cell_type": "code",
   "execution_count": 2,
   "id": "720ab6ff",
   "metadata": {},
   "outputs": [
    {
     "name": "stdout",
     "output_type": "stream",
     "text": [
      "Programa para calcular la deperciación mediante tres métodos\n",
      "\n",
      "\n",
      "------------------------------------------------------------\n",
      "1. Método de línea recta\n",
      "2. Método de balance doblemente declinante\n",
      "3. Método de la suma de los dígitos de los años\n",
      "4. Salir\n",
      "------------------------------------------------------------\n",
      "\n",
      "\n",
      "Ingrese valor inicial del objeto8000\n",
      "Ingrese el periodo en años de depreciación10\n",
      "Ingrese según referencia método de cálculo1\n",
      "Método de línea recta \n",
      "\n",
      "Fin de año:  1 Depreciación de:  800.0 Valor actual:  7200.0\n",
      "Fin de año:  2 Depreciación de:  800.0 Valor actual:  6400.0\n",
      "Fin de año:  3 Depreciación de:  800.0 Valor actual:  5600.0\n",
      "Fin de año:  4 Depreciación de:  800.0 Valor actual:  4800.0\n",
      "Fin de año:  5 Depreciación de:  800.0 Valor actual:  4000.0\n",
      "Fin de año:  6 Depreciación de:  800.0 Valor actual:  3200.0\n",
      "Fin de año:  7 Depreciación de:  800.0 Valor actual:  2400.0\n",
      "Fin de año:  8 Depreciación de:  800.0 Valor actual:  1600.0\n",
      "Fin de año:  9 Depreciación de:  800.0 Valor actual:  800.0\n",
      "Fin de año:  10 Depreciación de:  800.0 Valor actual:  0.0\n"
     ]
    }
   ],
   "source": [
    "print(\"Programa para calcular la deperciación mediante tres métodos\")\n",
    "print(\"\\n\")\n",
    "print(\"------------------------------------------------------------\")\n",
    "print(\"1. Método de línea recta\")\n",
    "print(\"2. Método de balance doblemente declinante\")\n",
    "print(\"3. Método de la suma de los dígitos de los años\")\n",
    "print(\"4. Salir\")\n",
    "print(\"------------------------------------------------------------\")\n",
    "print(\"\\n\")\n",
    "\n",
    "#variables de entrada\n",
    "valor=float(input(\"Ingrese valor inicial del objeto\"))\n",
    "periodo=int(input(\"Ingrese el periodo en años de depreciación\"))\n",
    "metodo=int(input(\"Ingrese según referencia método de cálculo\"))\n",
    "\n",
    "#selección de método de cálculo\n",
    "\n",
    "if metodo == 1:               # Método de línea recta\n",
    "    print(\"Método de línea recta \\n\")\n",
    "    depreciacion = valor / periodo\n",
    "    for n in range(1, periodo + 1):\n",
    "        valor -= depreciacion\n",
    "        print(\"Fin de año: \",n,\"Depreciación de: \", depreciacion, \"Valor actual: \", valor)\n",
    "        \n",
    "elif metodo == 2:             # Método de balance doblemente declinante\n",
    "    print(\"Método de balance doblemente declinante \\n\")\n",
    "    \n",
    "elif metodo == 3:             # Método de la suma de los dígitos de los años\n",
    "    print(\"Método de balance doblemente declinante \\n\")\n",
    "    \n",
    "else:\n",
    "    print(\"Fin del programa\")\n",
    "    \n"
   ]
  },
  {
   "cell_type": "code",
   "execution_count": null,
   "id": "dfa6730d",
   "metadata": {},
   "outputs": [],
   "source": []
  }
 ],
 "metadata": {
  "kernelspec": {
   "display_name": "Python 3",
   "language": "python",
   "name": "python3"
  },
  "language_info": {
   "codemirror_mode": {
    "name": "ipython",
    "version": 3
   },
   "file_extension": ".py",
   "mimetype": "text/x-python",
   "name": "python",
   "nbconvert_exporter": "python",
   "pygments_lexer": "ipython3",
   "version": "3.8.8"
  }
 },
 "nbformat": 4,
 "nbformat_minor": 5
}
