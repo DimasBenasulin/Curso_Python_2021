{
 "cells": [
  {
   "cell_type": "markdown",
   "id": "b375f748",
   "metadata": {},
   "source": [
    "# Funciones"
   ]
  },
  {
   "cell_type": "markdown",
   "id": "86671708",
   "metadata": {},
   "source": [
    "## Definición de Función"
   ]
  },
  {
   "cell_type": "code",
   "execution_count": 3,
   "id": "43186e3d",
   "metadata": {},
   "outputs": [],
   "source": [
    "def isYearLeap(year):\n",
    "    resultado = False\n",
    "    if (year % 400 == 0) or (year % 4 == 0) and (year % 100 != 0):\n",
    "        resultado = True\n",
    "    else:\n",
    "        resultado = False\n",
    "    return resultado"
   ]
  },
  {
   "cell_type": "markdown",
   "id": "10bd5aff",
   "metadata": {},
   "source": [
    "## Código de Test"
   ]
  },
  {
   "cell_type": "code",
   "execution_count": 4,
   "id": "6dff945f",
   "metadata": {},
   "outputs": [
    {
     "name": "stdout",
     "output_type": "stream",
     "text": [
      "1900 ->OK\n",
      "2000 ->OK\n",
      "2016 ->OK\n",
      "1987 ->OK\n"
     ]
    }
   ],
   "source": [
    "testData = [1900, 2000, 2016, 1987]\n",
    "testResults = [False, True, True, False]\n",
    "\n",
    "for i in range(len(testData)):\n",
    "    yr = testData[i]\n",
    "    print(yr,\"->\",end=\"\")\n",
    "    result = isYearLeap(yr)\n",
    "    if result == testResults[i]:\n",
    "        print(\"OK\")\n",
    "    else:\n",
    "        print(\"Error\")"
   ]
  },
  {
   "cell_type": "markdown",
   "id": "3eeda2a5",
   "metadata": {},
   "source": [
    "### Ejercicio Práctico"
   ]
  },
  {
   "cell_type": "code",
   "execution_count": 5,
   "id": "37eeb35f",
   "metadata": {},
   "outputs": [],
   "source": [
    "## Escribir una función que, dado un número de DNI, retorne True si el número es válido y False si no lo es. \n",
    "## Para que un número de DNI sea válido debe tener entre 7 y 8 dígitos."
   ]
  },
  {
   "cell_type": "code",
   "execution_count": 6,
   "id": "df9fb9e0",
   "metadata": {},
   "outputs": [],
   "source": [
    "a=29220756"
   ]
  },
  {
   "cell_type": "code",
   "execution_count": 7,
   "id": "9669bfb0",
   "metadata": {},
   "outputs": [
    {
     "name": "stdout",
     "output_type": "stream",
     "text": [
      "<class 'int'>\n"
     ]
    }
   ],
   "source": [
    "print(type(a))"
   ]
  },
  {
   "cell_type": "code",
   "execution_count": 10,
   "id": "0de3dccd",
   "metadata": {},
   "outputs": [],
   "source": [
    "s1 = a // 1000000"
   ]
  },
  {
   "cell_type": "code",
   "execution_count": 11,
   "id": "7c66899e",
   "metadata": {},
   "outputs": [
    {
     "name": "stdout",
     "output_type": "stream",
     "text": [
      "29\n"
     ]
    }
   ],
   "source": [
    "print(s1)"
   ]
  },
  {
   "cell_type": "code",
   "execution_count": 12,
   "id": "9e0301a9",
   "metadata": {},
   "outputs": [],
   "source": [
    "res = a % 1000000"
   ]
  },
  {
   "cell_type": "code",
   "execution_count": 13,
   "id": "6c9d857b",
   "metadata": {},
   "outputs": [
    {
     "name": "stdout",
     "output_type": "stream",
     "text": [
      "220756\n"
     ]
    }
   ],
   "source": [
    "print(res)"
   ]
  },
  {
   "cell_type": "code",
   "execution_count": 14,
   "id": "bcda6c16",
   "metadata": {},
   "outputs": [],
   "source": [
    "s2 = (a % 1000000) // 1000"
   ]
  },
  {
   "cell_type": "code",
   "execution_count": 15,
   "id": "8412ed01",
   "metadata": {},
   "outputs": [
    {
     "name": "stdout",
     "output_type": "stream",
     "text": [
      "220\n"
     ]
    }
   ],
   "source": [
    "print(s2)"
   ]
  },
  {
   "cell_type": "code",
   "execution_count": 16,
   "id": "29ea0183",
   "metadata": {},
   "outputs": [],
   "source": [
    "s3 = (a % 1000000) % 1000"
   ]
  },
  {
   "cell_type": "code",
   "execution_count": 17,
   "id": "196bd8ac",
   "metadata": {},
   "outputs": [
    {
     "name": "stdout",
     "output_type": "stream",
     "text": [
      "756\n"
     ]
    }
   ],
   "source": [
    "print(s3)"
   ]
  },
  {
   "cell_type": "code",
   "execution_count": 18,
   "id": "d8441911",
   "metadata": {},
   "outputs": [],
   "source": [
    "num=\"29220756\""
   ]
  },
  {
   "cell_type": "code",
   "execution_count": 19,
   "id": "a95bfa5c",
   "metadata": {},
   "outputs": [
    {
     "name": "stdout",
     "output_type": "stream",
     "text": [
      "220\n"
     ]
    }
   ],
   "source": [
    "print(num[2:5])"
   ]
  },
  {
   "cell_type": "code",
   "execution_count": 20,
   "id": "91069967",
   "metadata": {},
   "outputs": [],
   "source": [
    "def validarDNI(dni):\n",
    "   cantidad=0\n",
    "\n",
    "   while dni!=0:\n",
    "       cantidad += 1     # cantidad = cantidad + 1 \n",
    "       dni //= 10        # dni = dni // 10 \n",
    "   \n",
    "   return cantidad==7 or cantidad==8"
   ]
  },
  {
   "cell_type": "code",
   "execution_count": 21,
   "id": "fd81bcd7",
   "metadata": {},
   "outputs": [
    {
     "data": {
      "text/plain": [
       "True"
      ]
     },
     "execution_count": 21,
     "metadata": {},
     "output_type": "execute_result"
    }
   ],
   "source": [
    "validarDNI(29220756)"
   ]
  },
  {
   "cell_type": "code",
   "execution_count": 23,
   "id": "6e6baaec",
   "metadata": {},
   "outputs": [
    {
     "data": {
      "text/plain": [
       "True"
      ]
     },
     "execution_count": 23,
     "metadata": {},
     "output_type": "execute_result"
    }
   ],
   "source": [
    "validarDNI(7345623)"
   ]
  },
  {
   "cell_type": "code",
   "execution_count": 24,
   "id": "f1639cb1",
   "metadata": {},
   "outputs": [
    {
     "data": {
      "text/plain": [
       "False"
      ]
     },
     "execution_count": 24,
     "metadata": {},
     "output_type": "execute_result"
    }
   ],
   "source": [
    "validarDNI(220756)"
   ]
  },
  {
   "cell_type": "code",
   "execution_count": 25,
   "id": "ab2cb403",
   "metadata": {},
   "outputs": [],
   "source": [
    "## Escribir la función titulo(), la cual recibe un string y lo retorna convirtiendo la primera letra de cada palabra a mayúscula \n",
    "## y las demás letras a minúscula, dejando inalterados los demás caracteres. \n",
    "## Precondición: el separador de palabras es el espacio: \" \".\n",
    "## Método capitalize()\n",
    "## la guerra de las galaxias\n",
    "## La guerra De Las Galaxias"
   ]
  },
  {
   "cell_type": "code",
   "execution_count": 33,
   "id": "b21b2293",
   "metadata": {},
   "outputs": [
    {
     "name": "stdout",
     "output_type": "stream",
     "text": [
      "la guerra de las galaxias\n"
     ]
    }
   ],
   "source": [
    "titulo = \"la guerra de las galaxias\"\n",
    "print(titulo)"
   ]
  },
  {
   "cell_type": "code",
   "execution_count": 34,
   "id": "3831e445",
   "metadata": {},
   "outputs": [],
   "source": [
    "milista = titulo.split()"
   ]
  },
  {
   "cell_type": "code",
   "execution_count": 35,
   "id": "01b7cb27",
   "metadata": {},
   "outputs": [
    {
     "name": "stdout",
     "output_type": "stream",
     "text": [
      "['la', 'guerra', 'de', 'las', 'galaxias']\n"
     ]
    }
   ],
   "source": [
    "print(milista)"
   ]
  },
  {
   "cell_type": "code",
   "execution_count": 37,
   "id": "d8de797e",
   "metadata": {},
   "outputs": [],
   "source": [
    "n_titulo = \"\"\n",
    "for i in range(len(milista)):\n",
    "    msg = str(milista[i])\n",
    "    n_titulo += msg.capitalize() + \" \" "
   ]
  },
  {
   "cell_type": "code",
   "execution_count": 38,
   "id": "34bdb86c",
   "metadata": {},
   "outputs": [
    {
     "name": "stdout",
     "output_type": "stream",
     "text": [
      "La Guerra De Las Galaxias \n"
     ]
    }
   ],
   "source": [
    "print(n_titulo)"
   ]
  },
  {
   "cell_type": "code",
   "execution_count": 39,
   "id": "fee7f3d8",
   "metadata": {},
   "outputs": [],
   "source": [
    "def titulo(mititulo):\n",
    "    #Separo las pablabras que forman el titulo mediante split()\n",
    "    milista = mititulo.split()\n",
    "    \n",
    "    #defino un string vacio donde almacenar el titulo nuevo\n",
    "    n_titulo = \"\"\n",
    "    \n",
    "    #recorro lo lista obtenida para aplicar capitalize a cada letra\n",
    "    #concatenando el resultado en un titulo convertido\n",
    "    for i in range(len(milista)):\n",
    "        msg = str(milista[i])\n",
    "        n_titulo += msg.capitalize() + \" \" \n",
    "    \n",
    "    #retorno un string con el título convertido\n",
    "    return n_titulo"
   ]
  },
  {
   "cell_type": "code",
   "execution_count": 40,
   "id": "3ddc1852",
   "metadata": {},
   "outputs": [
    {
     "name": "stdout",
     "output_type": "stream",
     "text": [
      "La Guerra De Las Galaxias \n"
     ]
    }
   ],
   "source": [
    "print(titulo(\"la gueRRa dE lAs gALAxiaS\"))"
   ]
  },
  {
   "cell_type": "code",
   "execution_count": 41,
   "id": "f1430048",
   "metadata": {},
   "outputs": [
    {
     "name": "stdout",
     "output_type": "stream",
     "text": [
      "El Juego Del Calmar \n"
     ]
    }
   ],
   "source": [
    "print(titulo(\"El juego del calmar\"))"
   ]
  },
  {
   "cell_type": "code",
   "execution_count": 42,
   "id": "e5d41c70",
   "metadata": {},
   "outputs": [
    {
     "name": "stdout",
     "output_type": "stream",
     "text": [
      "El Planeta Del Los Simios \n"
     ]
    }
   ],
   "source": [
    "print(titulo(\"el planeta del LoS simiOs\"))"
   ]
  },
  {
   "cell_type": "code",
   "execution_count": 43,
   "id": "19a4c6a5",
   "metadata": {},
   "outputs": [],
   "source": [
    "### Escribir una función que, dado un string, retorne la longitud de la última palabra. \n",
    "### Se considera que las palabras están separadas por uno o más espacios. \n",
    "### También podría haber espacios al principio o al final del string pasado por parámetro.\n",
    "### Método len()"
   ]
  },
  {
   "cell_type": "code",
   "execution_count": 44,
   "id": "428f3e0c",
   "metadata": {},
   "outputs": [
    {
     "name": "stdout",
     "output_type": "stream",
     "text": [
      "El Fin De Los Tiempos \n"
     ]
    }
   ],
   "source": [
    "print(titulo(\" el     fin  de    LOS    TiempOS\"))"
   ]
  },
  {
   "cell_type": "code",
   "execution_count": null,
   "id": "6c4870de",
   "metadata": {},
   "outputs": [],
   "source": []
  }
 ],
 "metadata": {
  "kernelspec": {
   "display_name": "Python 3",
   "language": "python",
   "name": "python3"
  },
  "language_info": {
   "codemirror_mode": {
    "name": "ipython",
    "version": 3
   },
   "file_extension": ".py",
   "mimetype": "text/x-python",
   "name": "python",
   "nbconvert_exporter": "python",
   "pygments_lexer": "ipython3",
   "version": "3.8.8"
  }
 },
 "nbformat": 4,
 "nbformat_minor": 5
}
