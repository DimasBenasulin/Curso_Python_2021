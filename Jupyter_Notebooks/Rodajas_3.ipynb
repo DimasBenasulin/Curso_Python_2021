{
 "cells": [
  {
   "cell_type": "markdown",
   "id": "e7a5777a",
   "metadata": {},
   "source": [
    "# Rodajas"
   ]
  },
  {
   "cell_type": "code",
   "execution_count": 1,
   "id": "c2dd5fba",
   "metadata": {},
   "outputs": [],
   "source": [
    "lista1 = [1, 2, 3, 4, 5]"
   ]
  },
  {
   "cell_type": "code",
   "execution_count": 3,
   "id": "bd4f214d",
   "metadata": {},
   "outputs": [],
   "source": [
    "lista2 = lista1[:]"
   ]
  },
  {
   "cell_type": "code",
   "execution_count": 4,
   "id": "10957af7",
   "metadata": {},
   "outputs": [
    {
     "name": "stdout",
     "output_type": "stream",
     "text": [
      "[1, 2, 3, 4, 5]\n"
     ]
    }
   ],
   "source": [
    "print(lista1)"
   ]
  },
  {
   "cell_type": "code",
   "execution_count": 5,
   "id": "afba5083",
   "metadata": {},
   "outputs": [
    {
     "name": "stdout",
     "output_type": "stream",
     "text": [
      "[1, 2, 3, 4, 5]\n"
     ]
    }
   ],
   "source": [
    "print(lista2)"
   ]
  },
  {
   "cell_type": "code",
   "execution_count": 6,
   "id": "23cbb2d7",
   "metadata": {},
   "outputs": [],
   "source": [
    "lista2.append(6)"
   ]
  },
  {
   "cell_type": "code",
   "execution_count": 7,
   "id": "cd91d91d",
   "metadata": {},
   "outputs": [
    {
     "name": "stdout",
     "output_type": "stream",
     "text": [
      "[1, 2, 3, 4, 5, 6]\n"
     ]
    }
   ],
   "source": [
    "print(lista2)"
   ]
  },
  {
   "cell_type": "code",
   "execution_count": 8,
   "id": "d1a772c0",
   "metadata": {},
   "outputs": [
    {
     "name": "stdout",
     "output_type": "stream",
     "text": [
      "[1, 2, 3, 4, 5]\n"
     ]
    }
   ],
   "source": [
    "print(lista1)"
   ]
  },
  {
   "cell_type": "code",
   "execution_count": 9,
   "id": "23a3f436",
   "metadata": {},
   "outputs": [
    {
     "name": "stdout",
     "output_type": "stream",
     "text": [
      "[8, 6, 4]\n"
     ]
    }
   ],
   "source": [
    "miLista = [10, 8, 6, 4, 2]\n",
    "nuevaLista = miLista [1:4] \n",
    "print(nuevaLista)"
   ]
  },
  {
   "cell_type": "code",
   "execution_count": 10,
   "id": "251715ae",
   "metadata": {},
   "outputs": [],
   "source": [
    "# L[i]      el iésimo elemento de L\n",
    "# L[i:j]    lista de elementos empezando en i y terminando pero no incluyendo a j\n",
    "# L[:j]     los primeros j elementos\n",
    "# L[i:]     Todos los elementos a partir de i\n",
    "# L[-3:]    Los últimos 3 elementos de L\n",
    "# L[i:j:k]  Elementos desde i hasta pero no incluyendo a j, tomando solo cada k elementos\n",
    "# L[::2]    Los elementos de L con índice 2\n",
    "# L[::-1]   una copia de L invertida\n",
    "# L[:]      Todos los elementos de L"
   ]
  },
  {
   "cell_type": "code",
   "execution_count": 19,
   "id": "1dec2e3a",
   "metadata": {},
   "outputs": [
    {
     "name": "stdout",
     "output_type": "stream",
     "text": [
      "[4, 6, 8]\n"
     ]
    }
   ],
   "source": [
    "nuevalista2 = nuevaLista[::-1]\n",
    "print(nuevalista2)"
   ]
  },
  {
   "cell_type": "code",
   "execution_count": 20,
   "id": "2bd7c82d",
   "metadata": {},
   "outputs": [],
   "source": [
    "del nuevalista2[1]"
   ]
  },
  {
   "cell_type": "code",
   "execution_count": 21,
   "id": "92fba181",
   "metadata": {},
   "outputs": [
    {
     "name": "stdout",
     "output_type": "stream",
     "text": [
      "[4, 8]\n"
     ]
    }
   ],
   "source": [
    "print(nuevalista2)"
   ]
  },
  {
   "cell_type": "code",
   "execution_count": 22,
   "id": "313e15b2",
   "metadata": {},
   "outputs": [
    {
     "name": "stdout",
     "output_type": "stream",
     "text": [
      "[10, 8, 6, 4, 2]\n"
     ]
    }
   ],
   "source": [
    "print(miLista)"
   ]
  },
  {
   "cell_type": "code",
   "execution_count": 23,
   "id": "aa0742ca",
   "metadata": {},
   "outputs": [],
   "source": [
    "del miLista[-2:]"
   ]
  },
  {
   "cell_type": "code",
   "execution_count": 24,
   "id": "0ceefa9e",
   "metadata": {},
   "outputs": [
    {
     "name": "stdout",
     "output_type": "stream",
     "text": [
      "[10, 8, 6]\n"
     ]
    }
   ],
   "source": [
    "print(miLista)"
   ]
  },
  {
   "cell_type": "code",
   "execution_count": 25,
   "id": "177d3207",
   "metadata": {},
   "outputs": [],
   "source": [
    "fila = ['vacio' for i in range(8)]"
   ]
  },
  {
   "cell_type": "code",
   "execution_count": 26,
   "id": "ae58ed56",
   "metadata": {},
   "outputs": [
    {
     "name": "stdout",
     "output_type": "stream",
     "text": [
      "['vacio', 'vacio', 'vacio', 'vacio', 'vacio', 'vacio', 'vacio', 'vacio']\n"
     ]
    }
   ],
   "source": [
    "print(fila)"
   ]
  },
  {
   "cell_type": "code",
   "execution_count": 27,
   "id": "1fc9bc67",
   "metadata": {},
   "outputs": [],
   "source": [
    "tablero = [['em' for i in range(8)] for j in range(8)]"
   ]
  },
  {
   "cell_type": "code",
   "execution_count": 28,
   "id": "7b40c77a",
   "metadata": {},
   "outputs": [
    {
     "name": "stdout",
     "output_type": "stream",
     "text": [
      "[['em', 'em', 'em', 'em', 'em', 'em', 'em', 'em'], ['em', 'em', 'em', 'em', 'em', 'em', 'em', 'em'], ['em', 'em', 'em', 'em', 'em', 'em', 'em', 'em'], ['em', 'em', 'em', 'em', 'em', 'em', 'em', 'em'], ['em', 'em', 'em', 'em', 'em', 'em', 'em', 'em'], ['em', 'em', 'em', 'em', 'em', 'em', 'em', 'em'], ['em', 'em', 'em', 'em', 'em', 'em', 'em', 'em'], ['em', 'em', 'em', 'em', 'em', 'em', 'em', 'em']]\n"
     ]
    }
   ],
   "source": [
    "print(tablero)"
   ]
  },
  {
   "cell_type": "code",
   "execution_count": 32,
   "id": "8aca1b45",
   "metadata": {},
   "outputs": [],
   "source": [
    "tablero[1] = ['peb' for i in range(8)]\n",
    "tablero[6] = ['pen' for i in range(8)] "
   ]
  },
  {
   "cell_type": "code",
   "execution_count": 33,
   "id": "618c13a3",
   "metadata": {},
   "outputs": [
    {
     "name": "stdout",
     "output_type": "stream",
     "text": [
      "[['em', 'em', 'em', 'em', 'em', 'em', 'em', 'em'], ['peb', 'peb', 'peb', 'peb', 'peb', 'peb', 'peb', 'peb'], ['em', 'em', 'em', 'em', 'em', 'em', 'em', 'em'], ['em', 'em', 'em', 'em', 'em', 'em', 'em', 'em'], ['em', 'em', 'em', 'em', 'em', 'em', 'em', 'em'], ['em', 'em', 'em', 'em', 'em', 'em', 'em', 'em'], ['pen', 'pen', 'pen', 'pen', 'pen', 'pen', 'pen', 'pen'], ['em', 'em', 'em', 'em', 'em', 'em', 'em', 'em']]\n"
     ]
    }
   ],
   "source": [
    "print(tablero)"
   ]
  },
  {
   "cell_type": "code",
   "execution_count": null,
   "id": "92a8e18f",
   "metadata": {},
   "outputs": [],
   "source": []
  }
 ],
 "metadata": {
  "kernelspec": {
   "display_name": "Python 3",
   "language": "python",
   "name": "python3"
  },
  "language_info": {
   "codemirror_mode": {
    "name": "ipython",
    "version": 3
   },
   "file_extension": ".py",
   "mimetype": "text/x-python",
   "name": "python",
   "nbconvert_exporter": "python",
   "pygments_lexer": "ipython3",
   "version": "3.8.8"
  }
 },
 "nbformat": 4,
 "nbformat_minor": 5
}
