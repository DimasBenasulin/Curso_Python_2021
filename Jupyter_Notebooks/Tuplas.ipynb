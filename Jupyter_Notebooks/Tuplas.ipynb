{
 "cells": [
  {
   "cell_type": "code",
   "execution_count": 1,
   "id": "a7e581e3",
   "metadata": {},
   "outputs": [],
   "source": [
    "#Crear un tupla"
   ]
  },
  {
   "cell_type": "code",
   "execution_count": 2,
   "id": "c552d09e",
   "metadata": {},
   "outputs": [],
   "source": [
    "mitupla = (1, 2, 3)"
   ]
  },
  {
   "cell_type": "code",
   "execution_count": 3,
   "id": "ac5a9226",
   "metadata": {},
   "outputs": [
    {
     "name": "stdout",
     "output_type": "stream",
     "text": [
      "(1, 2, 3)\n"
     ]
    }
   ],
   "source": [
    "print(mitupla)"
   ]
  },
  {
   "cell_type": "code",
   "execution_count": 5,
   "id": "c083d7cd",
   "metadata": {},
   "outputs": [
    {
     "name": "stdout",
     "output_type": "stream",
     "text": [
      "<class 'tuple'>\n"
     ]
    }
   ],
   "source": [
    "print(type(mitupla))"
   ]
  },
  {
   "cell_type": "code",
   "execution_count": 6,
   "id": "5750177d",
   "metadata": {},
   "outputs": [
    {
     "name": "stdout",
     "output_type": "stream",
     "text": [
      "2\n"
     ]
    }
   ],
   "source": [
    "print(mitupla[1])"
   ]
  },
  {
   "cell_type": "code",
   "execution_count": 7,
   "id": "cc764298",
   "metadata": {},
   "outputs": [
    {
     "ename": "TypeError",
     "evalue": "'tuple' object does not support item assignment",
     "output_type": "error",
     "traceback": [
      "\u001b[1;31m---------------------------------------------------------------------------\u001b[0m",
      "\u001b[1;31mTypeError\u001b[0m                                 Traceback (most recent call last)",
      "\u001b[1;32m<ipython-input-7-2ca47d4887e3>\u001b[0m in \u001b[0;36m<module>\u001b[1;34m\u001b[0m\n\u001b[1;32m----> 1\u001b[1;33m \u001b[0mmitupla\u001b[0m\u001b[1;33m[\u001b[0m\u001b[1;36m1\u001b[0m\u001b[1;33m]\u001b[0m \u001b[1;33m=\u001b[0m \u001b[1;36m3\u001b[0m\u001b[1;33m\u001b[0m\u001b[1;33m\u001b[0m\u001b[0m\n\u001b[0m",
      "\u001b[1;31mTypeError\u001b[0m: 'tuple' object does not support item assignment"
     ]
    }
   ],
   "source": [
    "mitupla[1] = 3"
   ]
  },
  {
   "cell_type": "code",
   "execution_count": 8,
   "id": "ea7d4cd9",
   "metadata": {},
   "outputs": [],
   "source": [
    "milista = [1,2,3]"
   ]
  },
  {
   "cell_type": "code",
   "execution_count": 9,
   "id": "10e2f8bb",
   "metadata": {},
   "outputs": [
    {
     "name": "stdout",
     "output_type": "stream",
     "text": [
      "2\n"
     ]
    }
   ],
   "source": [
    "print(milista[1])"
   ]
  },
  {
   "cell_type": "code",
   "execution_count": 10,
   "id": "ff4e35d2",
   "metadata": {},
   "outputs": [],
   "source": [
    "milista[1]=7"
   ]
  },
  {
   "cell_type": "code",
   "execution_count": 11,
   "id": "94ba2013",
   "metadata": {},
   "outputs": [
    {
     "name": "stdout",
     "output_type": "stream",
     "text": [
      "[1, 7, 3]\n"
     ]
    }
   ],
   "source": [
    "print(milista)"
   ]
  },
  {
   "cell_type": "code",
   "execution_count": 12,
   "id": "1882b2e5",
   "metadata": {},
   "outputs": [],
   "source": [
    "#Tuplas anidadas"
   ]
  },
  {
   "cell_type": "code",
   "execution_count": 14,
   "id": "71da0575",
   "metadata": {},
   "outputs": [],
   "source": [
    "mitupla2 = (1, 2, ('a', 'b'), 3)"
   ]
  },
  {
   "cell_type": "code",
   "execution_count": 15,
   "id": "18dcc485",
   "metadata": {},
   "outputs": [
    {
     "name": "stdout",
     "output_type": "stream",
     "text": [
      "(1, 2, ('a', 'b'), 3)\n"
     ]
    }
   ],
   "source": [
    "print(mitupla2)"
   ]
  },
  {
   "cell_type": "code",
   "execution_count": 17,
   "id": "7cfcbb25",
   "metadata": {},
   "outputs": [
    {
     "name": "stdout",
     "output_type": "stream",
     "text": [
      "b\n"
     ]
    }
   ],
   "source": [
    "print(mitupla2[2][1])"
   ]
  },
  {
   "cell_type": "code",
   "execution_count": 18,
   "id": "15fe63ef",
   "metadata": {},
   "outputs": [],
   "source": [
    "lista = [1, 4, 7]"
   ]
  },
  {
   "cell_type": "code",
   "execution_count": 19,
   "id": "dd48a7fd",
   "metadata": {},
   "outputs": [],
   "source": [
    "mitupla2 = tuple(lista)"
   ]
  },
  {
   "cell_type": "code",
   "execution_count": 20,
   "id": "8aa13468",
   "metadata": {},
   "outputs": [
    {
     "name": "stdout",
     "output_type": "stream",
     "text": [
      "(1, 4, 7)\n"
     ]
    }
   ],
   "source": [
    "print(mitupla2)"
   ]
  },
  {
   "cell_type": "code",
   "execution_count": 21,
   "id": "d12faf5b",
   "metadata": {},
   "outputs": [
    {
     "name": "stdout",
     "output_type": "stream",
     "text": [
      "1\n",
      "4\n",
      "7\n"
     ]
    }
   ],
   "source": [
    "for t in mitupla2:\n",
    "    print(t)"
   ]
  },
  {
   "cell_type": "code",
   "execution_count": 22,
   "id": "b12f5ff0",
   "metadata": {},
   "outputs": [
    {
     "name": "stdout",
     "output_type": "stream",
     "text": [
      "1\n",
      "4\n",
      "7\n"
     ]
    }
   ],
   "source": [
    "for i in range(len(mitupla2)):\n",
    "    print(mitupla2[i])"
   ]
  },
  {
   "cell_type": "code",
   "execution_count": 23,
   "id": "d17706f8",
   "metadata": {},
   "outputs": [
    {
     "name": "stdout",
     "output_type": "stream",
     "text": [
      "1\n",
      "4\n",
      "7\n"
     ]
    }
   ],
   "source": [
    "for t in lista:\n",
    "    print(t)"
   ]
  },
  {
   "cell_type": "markdown",
   "id": "82f54229",
   "metadata": {},
   "source": [
    "# Método count"
   ]
  },
  {
   "cell_type": "code",
   "execution_count": 25,
   "id": "8cc6a22e",
   "metadata": {},
   "outputs": [
    {
     "name": "stdout",
     "output_type": "stream",
     "text": [
      "3\n"
     ]
    }
   ],
   "source": [
    "l = (1, 1, 1, 3, 5)\n",
    "print(l.count(1))"
   ]
  },
  {
   "cell_type": "code",
   "execution_count": 26,
   "id": "262d7aa4",
   "metadata": {},
   "outputs": [],
   "source": [
    "#Método index"
   ]
  },
  {
   "cell_type": "code",
   "execution_count": 31,
   "id": "4ba82628",
   "metadata": {},
   "outputs": [
    {
     "name": "stdout",
     "output_type": "stream",
     "text": [
      "0\n"
     ]
    }
   ],
   "source": [
    "l = (7, 7, 7, 3, 5)\n",
    "print(l.index(7))"
   ]
  },
  {
   "cell_type": "code",
   "execution_count": null,
   "id": "c5c30d3b",
   "metadata": {},
   "outputs": [],
   "source": []
  }
 ],
 "metadata": {
  "kernelspec": {
   "display_name": "Python 3",
   "language": "python",
   "name": "python3"
  },
  "language_info": {
   "codemirror_mode": {
    "name": "ipython",
    "version": 3
   },
   "file_extension": ".py",
   "mimetype": "text/x-python",
   "name": "python",
   "nbconvert_exporter": "python",
   "pygments_lexer": "ipython3",
   "version": "3.8.8"
  }
 },
 "nbformat": 4,
 "nbformat_minor": 5
}
