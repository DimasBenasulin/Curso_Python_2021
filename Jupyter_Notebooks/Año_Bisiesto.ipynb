{
 "cells": [
  {
   "cell_type": "markdown",
   "id": "25200af5",
   "metadata": {},
   "source": [
    "# Determinar Año Bisiesto"
   ]
  },
  {
   "cell_type": "code",
   "execution_count": 5,
   "id": "4aa05ecd",
   "metadata": {},
   "outputs": [
    {
     "name": "stdout",
     "output_type": "stream",
     "text": [
      "Ingrese año: 1970\n",
      "\n",
      " Resultado: \n",
      "\n",
      "\n",
      "No es bisiesto\n"
     ]
    }
   ],
   "source": [
    "#entradas\n",
    "anio=int(input(\"Ingrese año: \"))\n",
    "\n",
    "#salidas\n",
    "print(\"\\n Resultado: \")\n",
    "print(\"\\n\")\n",
    "if (anio % 400 == 0) or (anio % 4 == 0) and (anio % 100 != 0):\n",
    "    print(\"El año ingresado fue o será bisiesto\")\n",
    "else:\n",
    "    print(\"No es bisiesto\")"
   ]
  },
  {
   "cell_type": "code",
   "execution_count": null,
   "id": "c6cfc941",
   "metadata": {},
   "outputs": [],
   "source": []
  }
 ],
 "metadata": {
  "kernelspec": {
   "display_name": "Python 3",
   "language": "python",
   "name": "python3"
  },
  "language_info": {
   "codemirror_mode": {
    "name": "ipython",
    "version": 3
   },
   "file_extension": ".py",
   "mimetype": "text/x-python",
   "name": "python",
   "nbconvert_exporter": "python",
   "pygments_lexer": "ipython3",
   "version": "3.8.8"
  }
 },
 "nbformat": 4,
 "nbformat_minor": 5
}
