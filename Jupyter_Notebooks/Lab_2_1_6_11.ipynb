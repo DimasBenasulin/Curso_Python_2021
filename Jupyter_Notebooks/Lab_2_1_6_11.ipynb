{
 "cells": [
  {
   "cell_type": "markdown",
   "id": "7602def9",
   "metadata": {},
   "source": [
    "# Laboratorio 2.1.6.11"
   ]
  },
  {
   "cell_type": "code",
   "execution_count": 22,
   "id": "f4235f72",
   "metadata": {},
   "outputs": [
    {
     "name": "stdout",
     "output_type": "stream",
     "text": [
      "Hora de inicio (horas): 22\n",
      "Minuto de inicio (minutos): 38\n",
      "Duración del evento (minutos): 351\n"
     ]
    }
   ],
   "source": [
    "hora = int(input(\"Hora de inicio (horas): \"))\n",
    "min = int(input(\"Minuto de inicio (minutos): \"))\n",
    "dura = int(input(\"Duración del evento (minutos): \"))"
   ]
  },
  {
   "cell_type": "code",
   "execution_count": 23,
   "id": "1529a02e",
   "metadata": {},
   "outputs": [],
   "source": [
    "t_total = hora * 60 + min"
   ]
  },
  {
   "cell_type": "code",
   "execution_count": 24,
   "id": "b1f9423c",
   "metadata": {},
   "outputs": [],
   "source": [
    "t_total = t_total + dura "
   ]
  },
  {
   "cell_type": "markdown",
   "id": "180a133d",
   "metadata": {},
   "source": [
    "#separo en dos variables minutos y horas \n",
    "#dura_hora = dura // 60\n",
    "#dura_min = dura % 60"
   ]
  },
  {
   "cell_type": "code",
   "execution_count": 25,
   "id": "ccfdecf4",
   "metadata": {},
   "outputs": [],
   "source": [
    "fin_hora = t_total // 60\n",
    "fin_min = t_total % 60"
   ]
  },
  {
   "cell_type": "code",
   "execution_count": 26,
   "id": "92045341",
   "metadata": {},
   "outputs": [],
   "source": [
    "if fin_hora > 48:\n",
    "    nota = \"del día siguiente\"\n",
    "elsif fin_hora >24:\n",
    "    nota = \"del día :-)\"\n",
    "\n",
    "#Arreglo de la hora\n",
    "fin_hora = fin_hora % 24"
   ]
  },
  {
   "cell_type": "code",
   "execution_count": 27,
   "id": "b8204c63",
   "metadata": {},
   "outputs": [
    {
     "name": "stdout",
     "output_type": "stream",
     "text": [
      "el Evento finalizará a las:  4 : 29 del día siguiente\n"
     ]
    }
   ],
   "source": [
    "print(\"el Evento finalizará a las: \", fin_hora, \":\", fin_min, nota)"
   ]
  },
  {
   "cell_type": "code",
   "execution_count": 29,
   "id": "1d19dceb",
   "metadata": {},
   "outputs": [
    {
     "name": "stdout",
     "output_type": "stream",
     "text": [
      "ingrese número: 22\n",
      "El número 22 es par.\n"
     ]
    }
   ],
   "source": [
    "n=int(input(\"ingrese número: \"))\n",
    "\n",
    "if n % 2 == 0:\n",
    "    print('El número', n, 'es par.')\n",
    "else:\n",
    "    print('El número', n, 'es impar.')"
   ]
  },
  {
   "cell_type": "code",
   "execution_count": null,
   "id": "bbd1f182",
   "metadata": {},
   "outputs": [],
   "source": []
  }
 ],
 "metadata": {
  "kernelspec": {
   "display_name": "Python 3",
   "language": "python",
   "name": "python3"
  },
  "language_info": {
   "codemirror_mode": {
    "name": "ipython",
    "version": 3
   },
   "file_extension": ".py",
   "mimetype": "text/x-python",
   "name": "python",
   "nbconvert_exporter": "python",
   "pygments_lexer": "ipython3",
   "version": "3.8.8"
  }
 },
 "nbformat": 4,
 "nbformat_minor": 5
}
