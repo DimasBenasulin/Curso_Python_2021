{
 "cells": [
  {
   "cell_type": "code",
   "execution_count": 2,
   "id": "6b7de7b0",
   "metadata": {},
   "outputs": [
    {
     "name": "stdout",
     "output_type": "stream",
     "text": [
      "--------------  Programa para calcular la distancia euclidea entre dos puntos en R2 ------------------------ \n",
      "\n",
      "\n",
      "\n",
      "\n",
      "\n",
      "Ingrese coordenada Ax: -1\n",
      "Ingrese coordenada Ay: -4\n",
      "Ingrese coordenada Bx: -5\n",
      "Ingrese coordenada By: -1\n",
      "\n",
      "\n",
      "\n",
      "\n",
      "La distancia entre los puntos dados es:  5.0\n",
      "\n",
      "\n",
      "\n",
      "\n",
      "Have a nice day :-)\n"
     ]
    }
   ],
   "source": [
    "import math\n",
    "\n",
    "print(\"--------------  Programa para calcular la distancia euclidea entre dos puntos en R2 ------------------------ \\n\")\n",
    "print(\"\\n\")\n",
    "print(\"\\n\")\n",
    "\n",
    "Ax = float(input(\"Ingrese coordenada Ax: \"))\n",
    "Ay = float(input(\"Ingrese coordenada Ay: \"))\n",
    "Bx = float(input(\"Ingrese coordenada Bx: \"))\n",
    "By = float(input(\"Ingrese coordenada By: \"))\n",
    "\n",
    "cateto_a = abs(Bx - Ax)\n",
    "cateto_b = abs(By - Ay)\n",
    "\n",
    "distance = math.sqrt(cateto_a ** 2 + cateto_b ** 2)  # distancia en inglés ??? :-)\n",
    "\n",
    "print(\"\\n\")\n",
    "print(\"\\n\")\n",
    "\n",
    "print(\"La distancia entre los puntos dados es: \", distance)\n",
    "print(\"\\n\")\n",
    "print(\"\\n\")\n",
    "print(\"Have a nice day :-)\")"
   ]
  },
  {
   "cell_type": "code",
   "execution_count": 9,
   "id": "26566ad8",
   "metadata": {},
   "outputs": [
    {
     "name": "stdout",
     "output_type": "stream",
     "text": [
      "3.141592653589793\n",
      "3.14159265358979311599796346854418516159057617187500\n"
     ]
    }
   ],
   "source": [
    "a=math.pi\n",
    "print(a)\n",
    "print(\"{:.70f}\".format(a))"
   ]
  },
  {
   "cell_type": "code",
   "execution_count": null,
   "id": "071f1852",
   "metadata": {},
   "outputs": [],
   "source": []
  }
 ],
 "metadata": {
  "kernelspec": {
   "display_name": "Python 3",
   "language": "python",
   "name": "python3"
  },
  "language_info": {
   "codemirror_mode": {
    "name": "ipython",
    "version": 3
   },
   "file_extension": ".py",
   "mimetype": "text/x-python",
   "name": "python",
   "nbconvert_exporter": "python",
   "pygments_lexer": "ipython3",
   "version": "3.8.8"
  }
 },
 "nbformat": 4,
 "nbformat_minor": 5
}
