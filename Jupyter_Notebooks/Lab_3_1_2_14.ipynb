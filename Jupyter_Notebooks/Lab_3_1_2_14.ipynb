{
 "cells": [
  {
   "cell_type": "markdown",
   "id": "926fad3e",
   "metadata": {},
   "source": [
    "# Laboratorio 3_1_2_14"
   ]
  },
  {
   "cell_type": "code",
   "execution_count": 4,
   "id": "ccb36619",
   "metadata": {},
   "outputs": [
    {
     "name": "stdout",
     "output_type": "stream",
     "text": [
      "Ingrese el número de bloques:2\n",
      "La altura de la pirámide es:  1\n"
     ]
    }
   ],
   "source": [
    "bloques = int(input(\"Ingrese el número de bloques:\"))\n",
    "\n",
    "altura = 0\n",
    "capa = 1\n",
    "\n",
    "while (bloques >= capa):\n",
    "    if bloques >= capa:\n",
    "        bloques -= capa\n",
    "        capa += 1\n",
    "    else:\n",
    "        bloques = 0\n",
    "    altura += 1\n",
    "    \n",
    "print (\"La altura de la pirámide es: \", altura)\n"
   ]
  },
  {
   "cell_type": "code",
   "execution_count": null,
   "id": "03d733f0",
   "metadata": {},
   "outputs": [],
   "source": []
  }
 ],
 "metadata": {
  "kernelspec": {
   "display_name": "Python 3",
   "language": "python",
   "name": "python3"
  },
  "language_info": {
   "codemirror_mode": {
    "name": "ipython",
    "version": 3
   },
   "file_extension": ".py",
   "mimetype": "text/x-python",
   "name": "python",
   "nbconvert_exporter": "python",
   "pygments_lexer": "ipython3",
   "version": "3.8.8"
  }
 },
 "nbformat": 4,
 "nbformat_minor": 5
}
