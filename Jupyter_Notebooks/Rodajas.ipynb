{
 "cells": [
  {
   "cell_type": "markdown",
   "id": "9ba1bb40",
   "metadata": {},
   "source": [
    "# Rodajas (Slicing)"
   ]
  },
  {
   "cell_type": "code",
   "execution_count": 1,
   "id": "7f454098",
   "metadata": {},
   "outputs": [
    {
     "name": "stdout",
     "output_type": "stream",
     "text": [
      "[8, 6]\n"
     ]
    }
   ],
   "source": [
    "miLista = [10, 8, 6, 4, 2]\n",
    "nuevaLista = miLista [1:3]\n",
    "print(nuevaLista)"
   ]
  },
  {
   "cell_type": "code",
   "execution_count": 2,
   "id": "cee69001",
   "metadata": {},
   "outputs": [],
   "source": [
    "# L[i]      el iésimo elemento de L\n",
    "# L[i:j]    lista de elementos empezando en i y terminando pero no incluyendo a j\n",
    "# L[:j]     los primeros j elementos\n",
    "# L[i:]     Todos los elementos a partir de i\n",
    "# L[-3:]    Los últimos 3 elementos de L\n",
    "# L[i:j:k]  Elementos desde i hasta pero no incluyendo a j, tomando solo cada k elementos\n",
    "# L[::2]    Los elementos de L con índice 2\n",
    "# L[::-1]   una copia de L invertida\n",
    "# L[:]      Todos los elementos de L"
   ]
  },
  {
   "cell_type": "code",
   "execution_count": 6,
   "id": "05ccfc50",
   "metadata": {},
   "outputs": [
    {
     "name": "stdout",
     "output_type": "stream",
     "text": [
      "[6, 4, 2]\n"
     ]
    }
   ],
   "source": [
    "print(miLista[-3:])"
   ]
  },
  {
   "cell_type": "markdown",
   "id": "56a011fe",
   "metadata": {},
   "source": [
    "### Eliminar un elemento de la Lista"
   ]
  },
  {
   "cell_type": "code",
   "execution_count": 7,
   "id": "f0d15e3f",
   "metadata": {},
   "outputs": [],
   "source": [
    "del miLista[2]"
   ]
  },
  {
   "cell_type": "code",
   "execution_count": 8,
   "id": "ac12db52",
   "metadata": {},
   "outputs": [
    {
     "name": "stdout",
     "output_type": "stream",
     "text": [
      "[10, 8, 4, 2]\n"
     ]
    }
   ],
   "source": [
    "print(miLista)"
   ]
  },
  {
   "cell_type": "code",
   "execution_count": null,
   "id": "bd4afbf7",
   "metadata": {},
   "outputs": [],
   "source": []
  }
 ],
 "metadata": {
  "kernelspec": {
   "display_name": "Python 3",
   "language": "python",
   "name": "python3"
  },
  "language_info": {
   "codemirror_mode": {
    "name": "ipython",
    "version": 3
   },
   "file_extension": ".py",
   "mimetype": "text/x-python",
   "name": "python",
   "nbconvert_exporter": "python",
   "pygments_lexer": "ipython3",
   "version": "3.8.8"
  }
 },
 "nbformat": 4,
 "nbformat_minor": 5
}
