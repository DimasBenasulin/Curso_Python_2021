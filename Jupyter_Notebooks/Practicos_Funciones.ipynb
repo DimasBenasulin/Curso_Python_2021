{
 "cells": [
  {
   "cell_type": "markdown",
   "id": "4bc4ceed",
   "metadata": {},
   "source": [
    "# Ejercicio Práctico 1"
   ]
  },
  {
   "cell_type": "code",
   "execution_count": null,
   "id": "58aed66c",
   "metadata": {},
   "outputs": [],
   "source": [
    "## Escribir un programa que permita al usuario obtener un identificador para cada uno de los socios de un club. \n",
    "## Para eso ingresará nombre completo y número de DNI de cada socio, indicando que finalizará el procesamiento \n",
    "## mediante el ingreso de un nombre vacío.\n",
    "\n",
    "## Precondición: el formato del nombre de los socios será: nombre apellido. \n",
    "## Podría ingresarse más de un nombre, en cuyo caso será: nombre1 nombre2 apellido. Si un socio tuviera más de un apellido, \n",
    "## el usuario sólo ingresará uno.\n",
    "\n",
    "## Se debe validar que el número de DNI tenga 7 u 8 dígitos. En caso contrario, el programa debe dejar al usuario en un bucle \n",
    "## hasta que ingrese un DNI correcto.\n",
    "\n",
    "## Por cada socio se debe imprimir su identificador único, el cual estará formado por: \n",
    "## el primer nombre, la cantidad de letras del apellido y los primeros 3 dígitos de su DNI. \n",
    "\n",
    "## Ejemplo:\n",
    "## Nombre: Alba María Linares\n",
    "## DNI: 25834910\n",
    "## Alba7258"
   ]
  }
 ],
 "metadata": {
  "kernelspec": {
   "display_name": "Python 3",
   "language": "python",
   "name": "python3"
  },
  "language_info": {
   "codemirror_mode": {
    "name": "ipython",
    "version": 3
   },
   "file_extension": ".py",
   "mimetype": "text/x-python",
   "name": "python",
   "nbconvert_exporter": "python",
   "pygments_lexer": "ipython3",
   "version": "3.8.8"
  }
 },
 "nbformat": 4,
 "nbformat_minor": 5
}
